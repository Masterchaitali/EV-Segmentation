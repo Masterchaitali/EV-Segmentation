{
  "cells": [
    {
      "cell_type": "code",
      "execution_count": 19,
      "metadata": {
        "id": "v0lU7hpmMrwe"
      },
      "outputs": [],
      "source": [
        "import pandas as pd\n",
        "import seaborn as sns\n",
        "import matplotlib.pyplot as plt\n"
      ]
    },
    {
      "cell_type": "code",
      "execution_count": 5,
      "metadata": {
        "colab": {
          "base_uri": "https://localhost:8080/",
          "height": 258
        },
        "id": "tLWue7yxNJYp",
        "outputId": "1f63999b-ad23-468e-ab28-6494b914ab0f"
      },
      "outputs": [
        {
          "data": {
            "text/html": [
              "<div>\n",
              "<style scoped>\n",
              "    .dataframe tbody tr th:only-of-type {\n",
              "        vertical-align: middle;\n",
              "    }\n",
              "\n",
              "    .dataframe tbody tr th {\n",
              "        vertical-align: top;\n",
              "    }\n",
              "\n",
              "    .dataframe thead th {\n",
              "        text-align: right;\n",
              "    }\n",
              "</style>\n",
              "<table border=\"1\" class=\"dataframe\">\n",
              "  <thead>\n",
              "    <tr style=\"text-align: right;\">\n",
              "      <th></th>\n",
              "      <th>Sl. No</th>\n",
              "      <th>State</th>\n",
              "      <th>Two Wheelers (Category L1 &amp; L2 as per Central Motor Vehicles Rules</th>\n",
              "      <th>Two Wheelers (Category L2 (CMVR))</th>\n",
              "      <th>Two Wheelers (Max power not exceeding 250 Watts)</th>\n",
              "      <th>Three Wheelers (Category L5 slow speed as per CMVR)</th>\n",
              "      <th>Three Wheelers (Category L5 as per CMVR)</th>\n",
              "      <th>Passenger Cars (Category M1 as per CMVR)</th>\n",
              "      <th>Buses</th>\n",
              "      <th>Total in state</th>\n",
              "    </tr>\n",
              "  </thead>\n",
              "  <tbody>\n",
              "    <tr>\n",
              "      <th>0</th>\n",
              "      <td>1</td>\n",
              "      <td>Andhra Pradesh</td>\n",
              "      <td>431.0</td>\n",
              "      <td>692.0</td>\n",
              "      <td>4689.0</td>\n",
              "      <td>0</td>\n",
              "      <td>0.0</td>\n",
              "      <td>3680.0</td>\n",
              "      <td>0.0</td>\n",
              "      <td>9492.0</td>\n",
              "    </tr>\n",
              "    <tr>\n",
              "      <th>1</th>\n",
              "      <td>2</td>\n",
              "      <td>Assam</td>\n",
              "      <td>463.0</td>\n",
              "      <td>138.0</td>\n",
              "      <td>1006.0</td>\n",
              "      <td>0</td>\n",
              "      <td>117.0</td>\n",
              "      <td>151.0</td>\n",
              "      <td>0.0</td>\n",
              "      <td>1875.0</td>\n",
              "    </tr>\n",
              "    <tr>\n",
              "      <th>2</th>\n",
              "      <td>3</td>\n",
              "      <td>Bihar</td>\n",
              "      <td>252.0</td>\n",
              "      <td>430.0</td>\n",
              "      <td>2148.0</td>\n",
              "      <td>6</td>\n",
              "      <td>64.0</td>\n",
              "      <td>271.0</td>\n",
              "      <td>0.0</td>\n",
              "      <td>3171.0</td>\n",
              "    </tr>\n",
              "    <tr>\n",
              "      <th>3</th>\n",
              "      <td>4</td>\n",
              "      <td>Chhattisgarh</td>\n",
              "      <td>613.0</td>\n",
              "      <td>382.0</td>\n",
              "      <td>2078.0</td>\n",
              "      <td>58</td>\n",
              "      <td>106.0</td>\n",
              "      <td>997.0</td>\n",
              "      <td>0.0</td>\n",
              "      <td>4234.0</td>\n",
              "    </tr>\n",
              "    <tr>\n",
              "      <th>4</th>\n",
              "      <td>5</td>\n",
              "      <td>Delhi</td>\n",
              "      <td>1395.0</td>\n",
              "      <td>251.0</td>\n",
              "      <td>5018.0</td>\n",
              "      <td>0</td>\n",
              "      <td>1.0</td>\n",
              "      <td>12695.0</td>\n",
              "      <td>21.0</td>\n",
              "      <td>19381.0</td>\n",
              "    </tr>\n",
              "  </tbody>\n",
              "</table>\n",
              "</div>"
            ],
            "text/plain": [
              "  Sl. No           State  \\\n",
              "0      1  Andhra Pradesh   \n",
              "1      2           Assam   \n",
              "2      3           Bihar   \n",
              "3      4    Chhattisgarh   \n",
              "4      5           Delhi   \n",
              "\n",
              "   Two Wheelers (Category L1 & L2 as per Central Motor Vehicles Rules  \\\n",
              "0                                              431.0                    \n",
              "1                                              463.0                    \n",
              "2                                              252.0                    \n",
              "3                                              613.0                    \n",
              "4                                             1395.0                    \n",
              "\n",
              "   Two Wheelers (Category L2 (CMVR))  \\\n",
              "0                              692.0   \n",
              "1                              138.0   \n",
              "2                              430.0   \n",
              "3                              382.0   \n",
              "4                              251.0   \n",
              "\n",
              "   Two Wheelers (Max power not exceeding 250 Watts)  \\\n",
              "0                                            4689.0   \n",
              "1                                            1006.0   \n",
              "2                                            2148.0   \n",
              "3                                            2078.0   \n",
              "4                                            5018.0   \n",
              "\n",
              "  Three Wheelers (Category L5 slow speed as per CMVR)  \\\n",
              "0                                                  0    \n",
              "1                                                  0    \n",
              "2                                                  6    \n",
              "3                                                 58    \n",
              "4                                                  0    \n",
              "\n",
              "   Three Wheelers (Category L5 as per CMVR)  \\\n",
              "0                                       0.0   \n",
              "1                                     117.0   \n",
              "2                                      64.0   \n",
              "3                                     106.0   \n",
              "4                                       1.0   \n",
              "\n",
              "   Passenger Cars (Category M1 as per CMVR)  Buses  Total in state  \n",
              "0                                    3680.0    0.0          9492.0  \n",
              "1                                     151.0    0.0          1875.0  \n",
              "2                                     271.0    0.0          3171.0  \n",
              "3                                     997.0    0.0          4234.0  \n",
              "4                                   12695.0   21.0         19381.0  "
            ]
          },
          "execution_count": 5,
          "metadata": {},
          "output_type": "execute_result"
        }
      ],
      "source": [
        "df1=pd.read_csv(r'C:\\Users\\Chaitali\\Desktop\\ev project\\EV Stats-1 (1).csv')\n",
        "df1.head()"
      ]
    },
    {
      "cell_type": "code",
      "execution_count": 6,
      "metadata": {
        "colab": {
          "base_uri": "https://localhost:8080/"
        },
        "id": "FPSDbzJRtbVu",
        "outputId": "a265d638-f5b2-499b-a63b-5eafbd5e0f2f"
      },
      "outputs": [
        {
          "name": "stdout",
          "output_type": "stream",
          "text": [
            "<class 'pandas.core.frame.DataFrame'>\n",
            "RangeIndex: 35 entries, 0 to 34\n",
            "Data columns (total 10 columns):\n",
            " #   Column                                                              Non-Null Count  Dtype  \n",
            "---  ------                                                              --------------  -----  \n",
            " 0   Sl. No                                                              34 non-null     object \n",
            " 1   State                                                               34 non-null     object \n",
            " 2   Two Wheelers (Category L1 & L2 as per Central Motor Vehicles Rules  31 non-null     float64\n",
            " 3   Two Wheelers (Category L2 (CMVR))                                   31 non-null     float64\n",
            " 4   Two Wheelers (Max power not exceeding 250 Watts)                    31 non-null     float64\n",
            " 5   Three Wheelers (Category L5 slow speed as per CMVR)                 34 non-null     object \n",
            " 6   Three Wheelers (Category L5 as per CMVR)                            31 non-null     float64\n",
            " 7   Passenger Cars (Category M1 as per CMVR)                            31 non-null     float64\n",
            " 8   Buses                                                               31 non-null     float64\n",
            " 9   Total in state                                                      31 non-null     float64\n",
            "dtypes: float64(7), object(3)\n",
            "memory usage: 2.9+ KB\n"
          ]
        }
      ],
      "source": [
        "df1.info()"
      ]
    },
    {
      "cell_type": "code",
      "execution_count": 7,
      "metadata": {
        "id": "_xNL3YoJqI5x"
      },
      "outputs": [],
      "source": [
        "df1_n=df1.dropna()\n",
        "df1_n = df1_n.iloc[:-1 , :]"
      ]
    },
    {
      "cell_type": "code",
      "execution_count": 8,
      "metadata": {
        "colab": {
          "base_uri": "https://localhost:8080/"
        },
        "id": "DAed3QgfpVhi",
        "outputId": "e8efd886-7c88-4a0a-ab8e-191d46be4384"
      },
      "outputs": [
        {
          "data": {
            "text/plain": [
              "array(['Andhra Pradesh', 'Assam', 'Bihar', 'Chhattisgarh', 'Delhi', 'Goa',\n",
              "       'Gujarat', 'Haryana', 'Himachal Pradesh', 'Jammu & Kashmir',\n",
              "       'Jharkhand', 'Karnataka', 'Kerala', 'Madhya Pradesh',\n",
              "       'Maharashtra', 'Manipur', 'Meghalaya', 'Nagaland', 'Odisha',\n",
              "       'Punjab', 'Rajasthan', 'Tamil Nadu', 'Telangana', 'Tripura',\n",
              "       'Uttar Pradesh', 'Uttarkhand', 'West Bengal',\n",
              "       'Andaman & Nicobar islands', 'Chandigarh',\n",
              "       'Dadra and Nagar Haveli'], dtype=object)"
            ]
          },
          "execution_count": 8,
          "metadata": {},
          "output_type": "execute_result"
        }
      ],
      "source": [
        "df1_n[\"State\"].unique()"
      ]
    },
    {
      "cell_type": "code",
      "execution_count": 18,
      "metadata": {
        "colab": {
          "base_uri": "https://localhost:8080/",
          "height": 564
        },
        "id": "eFAUC_t6otd9",
        "outputId": "c2b0c31f-a1ba-428b-8463-cf542a722295"
      },
      "outputs": [
        {
          "data": {
            "image/png": "[encoded data removed]",
            "text/plain": [
              "<Figure size 432x432 with 1 Axes>"
            ]
          },
          "metadata": {
            "needs_background": "light"
          },
          "output_type": "display_data"
        }
      ],
      "source": [
        "plt.figure(figsize=(6, 6))\n",
        "sns.barplot(data=df1_n, y=df1_n['State'], x=df1_n['Two Wheelers (Category L1 & L2 as per Central Motor Vehicles Rules'])\n",
        "plt.ylabel('State')\n",
        "plt.xlabel('Number of 2 wheelers',)\n",
        "plt.xticks(family='serif')\n",
        "plt.yticks(family='serif')\n",
        "plt.title(label='Number')\n",
        "plt.show()"
      ]
    },
    {
      "cell_type": "code",
      "execution_count": 9,
      "metadata": {
        "colab": {
          "base_uri": "https://localhost:8080/",
          "height": 564
        },
        "id": "jrev6DhftoJO",
        "outputId": "56c13849-2d8b-410e-c448-2086d1fe2188"
      },
      "outputs": [
        {
          "data": {
            "image/png": "[encoded data removed]",
            "text/plain": [
              "<Figure size 432x432 with 1 Axes>"
            ]
          },
          "metadata": {
            "needs_background": "light"
          },
          "output_type": "display_data"
        }
      ],
      "source": [
        "plt.figure(figsize=(6, 6))\n",
        "sns.barplot(data=df1_n, y=df1_n['State'], x=df1_n['Two Wheelers (Category L2 (CMVR))'])\n",
        "plt.ylabel('State')\n",
        "plt.xlabel('Number of 2 wheelers',)\n",
        "plt.xticks(family='serif')\n",
        "plt.yticks(family='serif')\n",
        "plt.title(label='Number')\n",
        "plt.show()"
      ]
    },
    {
      "cell_type": "code",
      "execution_count": null,
      "metadata": {
        "colab": {
          "base_uri": "https://localhost:8080/",
          "height": 564
        },
        "id": "RP2AHknGt7op",
        "outputId": "d28edeea-1258-476f-a9c9-01c7f0978a22"
      },
      "outputs": [
        {
          "data": {
            "image/png": "[encoded data removed]",
            "text/plain": [
              "<Figure size 600x600 with 1 Axes>"
            ]
          },
          "metadata": {},
          "output_type": "display_data"
        }
      ],
      "source": [
        "plt.figure(figsize=(6, 6))\n",
        "sns.barplot(data=df1_n, y=df1_n['State'], x=df1_n['Buses'])\n",
        "plt.ylabel('State')\n",
        "plt.xlabel('Number of bus',)\n",
        "plt.xticks(family='serif')\n",
        "plt.yticks(family='serif')\n",
        "plt.title(label='Number ofbus ')\n",
        "plt.show()"
      ]
    },
    {
      "cell_type": "code",
      "execution_count": 21,
      "metadata": {
        "colab": {
          "base_uri": "https://localhost:8080/",
          "height": 293
        },
        "id": "1oAeEXxyNWlS",
        "outputId": "23e367f1-768e-4a72-8ad5-af7a5a15db0a"
      },
      "outputs": [
        {
          "data": {
            "text/html": [
              "<div>\n",
              "<style scoped>\n",
              "    .dataframe tbody tr th:only-of-type {\n",
              "        vertical-align: middle;\n",
              "    }\n",
              "\n",
              "    .dataframe tbody tr th {\n",
              "        vertical-align: top;\n",
              "    }\n",
              "\n",
              "    .dataframe thead th {\n",
              "        text-align: right;\n",
              "    }\n",
              "</style>\n",
              "<table border=\"1\" class=\"dataframe\">\n",
              "  <thead>\n",
              "    <tr style=\"text-align: right;\">\n",
              "      <th></th>\n",
              "      <th>Brand</th>\n",
              "      <th>Model</th>\n",
              "      <th>Accel</th>\n",
              "      <th>TopSpeed</th>\n",
              "      <th>Range</th>\n",
              "      <th>Efficiency</th>\n",
              "      <th>FastCharge</th>\n",
              "      <th>RapidCharge</th>\n",
              "      <th>PowerTrain</th>\n",
              "      <th>PlugType</th>\n",
              "      <th>BodyStyle</th>\n",
              "      <th>Segment</th>\n",
              "      <th>Seats</th>\n",
              "      <th>PriceEuro</th>\n",
              "    </tr>\n",
              "  </thead>\n",
              "  <tbody>\n",
              "    <tr>\n",
              "      <th>0</th>\n",
              "      <td>Tesla</td>\n",
              "      <td>Model 3 Long Range Dual Motor</td>\n",
              "      <td>4.6 sec</td>\n",
              "      <td>233 km/h</td>\n",
              "      <td>450 km</td>\n",
              "      <td>161 Wh/km</td>\n",
              "      <td>940 km/h</td>\n",
              "      <td>Rapid charging possible</td>\n",
              "      <td>All Wheel Drive</td>\n",
              "      <td>Type 2 CCS</td>\n",
              "      <td>Sedan</td>\n",
              "      <td>D</td>\n",
              "      <td>5</td>\n",
              "      <td>55480</td>\n",
              "    </tr>\n",
              "    <tr>\n",
              "      <th>1</th>\n",
              "      <td>Volkswagen</td>\n",
              "      <td>ID.3 Pure</td>\n",
              "      <td>10.0 sec</td>\n",
              "      <td>160 km/h</td>\n",
              "      <td>270 km</td>\n",
              "      <td>167 Wh/km</td>\n",
              "      <td>250 km/h</td>\n",
              "      <td>Rapid charging possible</td>\n",
              "      <td>Rear Wheel Drive</td>\n",
              "      <td>Type 2 CCS</td>\n",
              "      <td>Hatchback</td>\n",
              "      <td>C</td>\n",
              "      <td>5</td>\n",
              "      <td>30000</td>\n",
              "    </tr>\n",
              "    <tr>\n",
              "      <th>2</th>\n",
              "      <td>Polestar</td>\n",
              "      <td>2</td>\n",
              "      <td>4.7 sec</td>\n",
              "      <td>210 km/h</td>\n",
              "      <td>400 km</td>\n",
              "      <td>181 Wh/km</td>\n",
              "      <td>620 km/h</td>\n",
              "      <td>Rapid charging possible</td>\n",
              "      <td>All Wheel Drive</td>\n",
              "      <td>Type 2 CCS</td>\n",
              "      <td>Liftback</td>\n",
              "      <td>D</td>\n",
              "      <td>5</td>\n",
              "      <td>56440</td>\n",
              "    </tr>\n",
              "    <tr>\n",
              "      <th>3</th>\n",
              "      <td>BMW</td>\n",
              "      <td>iX3</td>\n",
              "      <td>6.8 sec</td>\n",
              "      <td>180 km/h</td>\n",
              "      <td>360 km</td>\n",
              "      <td>206 Wh/km</td>\n",
              "      <td>560 km/h</td>\n",
              "      <td>Rapid charging possible</td>\n",
              "      <td>Rear Wheel Drive</td>\n",
              "      <td>Type 2 CCS</td>\n",
              "      <td>SUV</td>\n",
              "      <td>D</td>\n",
              "      <td>5</td>\n",
              "      <td>68040</td>\n",
              "    </tr>\n",
              "    <tr>\n",
              "      <th>4</th>\n",
              "      <td>Honda</td>\n",
              "      <td>e</td>\n",
              "      <td>9.5 sec</td>\n",
              "      <td>145 km/h</td>\n",
              "      <td>170 km</td>\n",
              "      <td>168 Wh/km</td>\n",
              "      <td>190 km/h</td>\n",
              "      <td>Rapid charging possible</td>\n",
              "      <td>Rear Wheel Drive</td>\n",
              "      <td>Type 2 CCS</td>\n",
              "      <td>Hatchback</td>\n",
              "      <td>B</td>\n",
              "      <td>4</td>\n",
              "      <td>32997</td>\n",
              "    </tr>\n",
              "  </tbody>\n",
              "</table>\n",
              "</div>"
            ],
            "text/plain": [
              "         Brand                          Model     Accel  TopSpeed   Range  \\\n",
              "0       Tesla   Model 3 Long Range Dual Motor   4.6 sec  233 km/h  450 km   \n",
              "1  Volkswagen                       ID.3 Pure  10.0 sec  160 km/h  270 km   \n",
              "2    Polestar                               2   4.7 sec  210 km/h  400 km   \n",
              "3         BMW                            iX3    6.8 sec  180 km/h  360 km   \n",
              "4       Honda                              e    9.5 sec  145 km/h  170 km   \n",
              "\n",
              "  Efficiency FastCharge              RapidCharge        PowerTrain  \\\n",
              "0  161 Wh/km   940 km/h  Rapid charging possible   All Wheel Drive   \n",
              "1  167 Wh/km   250 km/h  Rapid charging possible  Rear Wheel Drive   \n",
              "2  181 Wh/km   620 km/h  Rapid charging possible   All Wheel Drive   \n",
              "3  206 Wh/km   560 km/h  Rapid charging possible  Rear Wheel Drive   \n",
              "4  168 Wh/km   190 km/h  Rapid charging possible  Rear Wheel Drive   \n",
              "\n",
              "     PlugType  BodyStyle Segment  Seats  PriceEuro  \n",
              "0  Type 2 CCS      Sedan       D      5      55480  \n",
              "1  Type 2 CCS  Hatchback       C      5      30000  \n",
              "2  Type 2 CCS   Liftback       D      5      56440  \n",
              "3  Type 2 CCS        SUV       D      5      68040  \n",
              "4  Type 2 CCS  Hatchback       B      4      32997  "
            ]
          },
          "execution_count": 21,
          "metadata": {},
          "output_type": "execute_result"
        }
      ],
      "source": [
        "df2=pd.read_csv(r'C:\\Users\\Chaitali\\Desktop\\ev project\\ElectricCarData_Norm.csv')\n",
        "df2.head()"
      ]
    },
    {
      "cell_type": "code",
      "execution_count": 22,
      "metadata": {
        "id": "9w0h08HMkMXN"
      },
      "outputs": [],
      "source": [
        "df2['Accel_in_sec'] =  df2['Accel'].str.extract('(\\d+)').astype(int)\n",
        "df2['TopSpeed'] =  df2['TopSpeed'].astype(str).str.extract('(\\d+)').astype(int)\n",
        "df2['Range_in_km'] =  df2['Range'].str.extract('(\\d+)').astype(int)\n",
        "df2['Efficiency_wh/km'] =  df2['Efficiency'].str.extract('(\\d+)').astype(int)\n",
        "\n"
      ]
    },
    {
      "cell_type": "code",
      "execution_count": null,
      "metadata": {
        "id": "KHPYIJyJmxWN"
      },
      "outputs": [],
      "source": [
        "df2['Fastcharge_km\\h'] =  df2['FastCharge'].str.extract('(\\d+)').astype(float)"
      ]
    },
    {
      "cell_type": "code",
      "execution_count": null,
      "metadata": {
        "colab": {
          "base_uri": "https://localhost:8080/"
        },
        "id": "FrY7oAoqm88_",
        "outputId": "5f66b8fe-5ecb-476c-be62-5db956095ee3"
      },
      "outputs": [
        {
          "name": "stdout",
          "output_type": "stream",
          "text": [
            "Empty DataFrame\n",
            "Columns: [Brand, Model, Accel, TopSpeed, Range, Efficiency, FastCharge, RapidCharge, PowerTrain, PlugType, BodyStyle, Segment, Seats, PriceEuro, Accel_in_sec, Range_in_km, Efficiency_wh/km, Fastcharge_km\\h]\n",
            "Index: []\n"
          ]
        }
      ],
      "source": [
        "print(df2[df2['FastCharge'].isnull()])"
      ]
    },
    {
      "cell_type": "code",
      "execution_count": 23,
      "metadata": {
        "colab": {
          "base_uri": "https://localhost:8080/"
        },
        "id": "KRzt9YDimXWE",
        "outputId": "b6b11482-d9f8-49ed-ca09-454f28a3646b"
      },
      "outputs": [
        {
          "name": "stdout",
          "output_type": "stream",
          "text": [
            "<class 'pandas.core.frame.DataFrame'>\n",
            "RangeIndex: 103 entries, 0 to 102\n",
            "Data columns (total 17 columns):\n",
            " #   Column            Non-Null Count  Dtype \n",
            "---  ------            --------------  ----- \n",
            " 0   Brand             103 non-null    object\n",
            " 1   Model             103 non-null    object\n",
            " 2   Accel             103 non-null    object\n",
            " 3   TopSpeed          103 non-null    int32 \n",
            " 4   Range             103 non-null    object\n",
            " 5   Efficiency        103 non-null    object\n",
            " 6   FastCharge        103 non-null    object\n",
            " 7   RapidCharge       103 non-null    object\n",
            " 8   PowerTrain        103 non-null    object\n",
            " 9   PlugType          103 non-null    object\n",
            " 10  BodyStyle         103 non-null    object\n",
            " 11  Segment           103 non-null    object\n",
            " 12  Seats             103 non-null    int64 \n",
            " 13  PriceEuro         103 non-null    int64 \n",
            " 14  Accel_in_sec      103 non-null    int32 \n",
            " 15  Range_in_km       103 non-null    int32 \n",
            " 16  Efficiency_wh/km  103 non-null    int32 \n",
            "dtypes: int32(4), int64(2), object(11)\n",
            "memory usage: 12.2+ KB\n"
          ]
        }
      ],
      "source": [
        "df2.info()"
      ]
    },
    {
      "cell_type": "code",
      "execution_count": 24,
      "metadata": {
        "colab": {
          "base_uri": "https://localhost:8080/",
          "height": 608
        },
        "id": "9IPTj9-Nnh5O",
        "outputId": "9dcaab44-b908-469e-9f8b-12ad82ac473f"
      },
      "outputs": [
        {
          "data": {
            "text/plain": [
              "<matplotlib.axes._subplots.AxesSubplot at 0x21393f10b08>"
            ]
          },
          "execution_count": 24,
          "metadata": {},
          "output_type": "execute_result"
        },
        {
          "data": {
            "image/png": "[encoded data removed]",
            "text/plain": [
              "<Figure size 432x288 with 1 Axes>"
            ]
          },
          "metadata": {
            "needs_background": "light"
          },
          "output_type": "display_data"
        }
      ],
      "source": [
        "sns.heatmap(data=df2.corr(), annot=True, cmap='Purples', cbar=False, square=True, fmt='.2f', linewidths=.3)"
      ]
    },
    {
      "cell_type": "code",
      "execution_count": 29,
      "metadata": {
        "colab": {
          "base_uri": "https://localhost:8080/"
        },
        "id": "wHt0OfapqtRt",
        "outputId": "1cc38c44-a0e4-491f-a006-ce3776625741"
      },
      "outputs": [
        {
          "data": {
            "text/plain": [
              "array([0, 1], dtype=int64)"
            ]
          },
          "execution_count": 29,
          "metadata": {},
          "output_type": "execute_result"
        }
      ],
      "source": [
        "df2[\"RapidCharge\"].unique()"
      ]
    },
    {
      "cell_type": "code",
      "execution_count": 31,
      "metadata": {
        "id": "F2eN91HmrPuD"
      },
      "outputs": [],
      "source": [
        "X = df2[['Accel_in_sec','TopSpeed','Efficiency_wh/km', 'Range_in_km', 'RapidCharge', 'Seats', 'PriceEuro','PowerTrain']]"
      ]
    },
    {
      "cell_type": "code",
      "execution_count": 32,
      "metadata": {
        "id": "rYXq_dCAr24M"
      },
      "outputs": [],
      "source": [
        "from sklearn.preprocessing import StandardScaler"
      ]
    },
    {
      "cell_type": "code",
      "execution_count": 34,
      "metadata": {
        "id": "obvqnnmSr3c7"
      },
      "outputs": [],
      "source": [
        "scaler = StandardScaler()\n",
        "X_scaled = scaler.fit_transform(X)"
      ]
    },
    {
      "cell_type": "code",
      "execution_count": 35,
      "metadata": {
        "id": "q6I5Fy2usAzy"
      },
      "outputs": [],
      "source": [
        "from sklearn.decomposition import PCA\n",
        "from sklearn.cluster import KMeans"
      ]
    },
    {
      "cell_type": "code",
      "execution_count": 36,
      "metadata": {
        "colab": {
          "base_uri": "https://localhost:8080/",
          "height": 206
        },
        "id": "hHBrrj5qsBAB",
        "outputId": "daef12c2-2332-4e86-b463-7b04da8eaf63"
      },
      "outputs": [
        {
          "data": {
            "text/html": [
              "<div>\n",
              "<style scoped>\n",
              "    .dataframe tbody tr th:only-of-type {\n",
              "        vertical-align: middle;\n",
              "    }\n",
              "\n",
              "    .dataframe tbody tr th {\n",
              "        vertical-align: top;\n",
              "    }\n",
              "\n",
              "    .dataframe thead th {\n",
              "        text-align: right;\n",
              "    }\n",
              "</style>\n",
              "<table border=\"1\" class=\"dataframe\">\n",
              "  <thead>\n",
              "    <tr style=\"text-align: right;\">\n",
              "      <th></th>\n",
              "      <th>PC1</th>\n",
              "      <th>PC2</th>\n",
              "      <th>PC3</th>\n",
              "      <th>PC4</th>\n",
              "      <th>PC5</th>\n",
              "      <th>PC6</th>\n",
              "      <th>PC7</th>\n",
              "      <th>PC8</th>\n",
              "    </tr>\n",
              "  </thead>\n",
              "  <tbody>\n",
              "    <tr>\n",
              "      <th>0</th>\n",
              "      <td>1.566937</td>\n",
              "      <td>0.219206</td>\n",
              "      <td>-1.066324</td>\n",
              "      <td>0.529670</td>\n",
              "      <td>-1.171416</td>\n",
              "      <td>0.086853</td>\n",
              "      <td>-0.229104</td>\n",
              "      <td>-0.381496</td>\n",
              "    </tr>\n",
              "    <tr>\n",
              "      <th>1</th>\n",
              "      <td>-1.310580</td>\n",
              "      <td>-0.412478</td>\n",
              "      <td>-0.207626</td>\n",
              "      <td>0.224250</td>\n",
              "      <td>-0.403994</td>\n",
              "      <td>-0.068498</td>\n",
              "      <td>0.563014</td>\n",
              "      <td>-0.512227</td>\n",
              "    </tr>\n",
              "    <tr>\n",
              "      <th>2</th>\n",
              "      <td>1.360909</td>\n",
              "      <td>0.140339</td>\n",
              "      <td>-0.407250</td>\n",
              "      <td>-0.007586</td>\n",
              "      <td>-1.010211</td>\n",
              "      <td>0.052686</td>\n",
              "      <td>-0.079572</td>\n",
              "      <td>-0.095178</td>\n",
              "    </tr>\n",
              "    <tr>\n",
              "      <th>3</th>\n",
              "      <td>0.565985</td>\n",
              "      <td>-0.201666</td>\n",
              "      <td>0.269290</td>\n",
              "      <td>-0.252525</td>\n",
              "      <td>0.335133</td>\n",
              "      <td>-0.001133</td>\n",
              "      <td>-0.055023</td>\n",
              "      <td>0.221816</td>\n",
              "    </tr>\n",
              "    <tr>\n",
              "      <th>4</th>\n",
              "      <td>-1.787539</td>\n",
              "      <td>0.457885</td>\n",
              "      <td>-0.518817</td>\n",
              "      <td>-0.914555</td>\n",
              "      <td>-0.327561</td>\n",
              "      <td>-0.246460</td>\n",
              "      <td>0.625392</td>\n",
              "      <td>-0.292336</td>\n",
              "    </tr>\n",
              "  </tbody>\n",
              "</table>\n",
              "</div>"
            ],
            "text/plain": [
              "        PC1       PC2       PC3       PC4       PC5       PC6       PC7  \\\n",
              "0  1.566937  0.219206 -1.066324  0.529670 -1.171416  0.086853 -0.229104   \n",
              "1 -1.310580 -0.412478 -0.207626  0.224250 -0.403994 -0.068498  0.563014   \n",
              "2  1.360909  0.140339 -0.407250 -0.007586 -1.010211  0.052686 -0.079572   \n",
              "3  0.565985 -0.201666  0.269290 -0.252525  0.335133 -0.001133 -0.055023   \n",
              "4 -1.787539  0.457885 -0.518817 -0.914555 -0.327561 -0.246460  0.625392   \n",
              "\n",
              "        PC8  \n",
              "0 -0.381496  \n",
              "1 -0.512227  \n",
              "2 -0.095178  \n",
              "3  0.221816  \n",
              "4 -0.292336  "
            ]
          },
          "execution_count": 36,
          "metadata": {},
          "output_type": "execute_result"
        }
      ],
      "source": [
        "pca = PCA(n_components=8)\n",
        "X_pca = pca.fit_transform(X_scaled)\n",
        "df_pca = pd.DataFrame(X_pca, columns=['PC1', 'PC2', 'PC3', 'PC4', 'PC5', 'PC6', 'PC7', 'PC8'])\n",
        "df_pca.head()"
      ]
    },
    {
      "cell_type": "code",
      "execution_count": 37,
      "metadata": {
        "colab": {
          "base_uri": "https://localhost:8080/",
          "height": 931
        },
        "id": "MOaUf2tasuzF",
        "outputId": "e971cc1d-4076-4aea-e398-b16d0e23f2e3"
      },
      "outputs": [
        {
          "name": "stderr",
          "output_type": "stream",
          "text": [
            "c:\\ProgramData\\Anaconda3\\lib\\site-packages\\sklearn\\cluster\\_kmeans.py:1037: UserWarning: KMeans is known to have a memory leak on Windows with MKL, when there are less chunks than available threads. You can avoid it by setting the environment variable OMP_NUM_THREADS=1.\n",
            "  \"KMeans is known to have a memory leak on Windows \"\n"
          ]
        },
        {
          "data": {
            "image/png": "[encoded data removed]",
            "text/plain": [
              "<Figure size 576x432 with 1 Axes>"
            ]
          },
          "metadata": {
            "needs_background": "light"
          },
          "output_type": "display_data"
        }
      ],
      "source": [
        "wcss = []\n",
        "\n",
        "for i in range(1, 11):\n",
        "  kmean = KMeans(n_clusters=i, init='k-means++', random_state=90)\n",
        "  kmean.fit(X_pca)\n",
        "  wcss.append(kmean.inertia_)\n",
        "\n",
        "plt.figure(figsize=(8,6))\n",
        "plt.title('Plot of the Elbow Method', size=15, family='serif')\n",
        "plt.plot(range(1, 11), wcss)\n",
        "plt.xticks(range(1, 11), family='serif')\n",
        "plt.yticks(family='serif')\n",
        "plt.xlabel('Number of Custers (K)', family='serif')\n",
        "plt.ylabel('WCSS', family='serif')\n",
        "plt.grid()\n",
        "plt.tick_params(axis='both', direction='inout', length=6, color='purple', grid_color='lightgray', grid_linestyle='--')\n",
        "plt.show()"
      ]
    },
    {
      "cell_type": "code",
      "execution_count": 38,
      "metadata": {
        "colab": {
          "base_uri": "https://localhost:8080/",
          "height": 129
        },
        "id": "_cp74PURszvx",
        "outputId": "d7c72f3f-1cb2-4cbc-f4ac-cb1b54bb8b02"
      },
      "outputs": [
        {
          "data": {
            "text/plain": [
              "KMeans(n_clusters=4, random_state=90)"
            ]
          },
          "execution_count": 38,
          "metadata": {},
          "output_type": "execute_result"
        }
      ],
      "source": [
        "kmean = KMeans(n_clusters=4, init='k-means++', random_state=90)\n",
        "kmean.fit(X_pca)"
      ]
    },
    {
      "cell_type": "code",
      "execution_count": null,
      "metadata": {
        "id": "mNa0QWKGs6qp"
      },
      "outputs": [],
      "source": [
        "df2['clusters'] = kmean.labels_"
      ]
    },
    {
      "cell_type": "code",
      "execution_count": 39,
      "metadata": {
        "colab": {
          "base_uri": "https://localhost:8080/",
          "height": 491
        },
        "id": "6lR0Azs-s_Vb",
        "outputId": "9fc40c98-35ba-40ad-d515-bc485f304216"
      },
      "outputs": [
        {
          "data": {
            "image/png": "[encoded data removed]",
            "text/plain": [
              "<Figure size 504x360 with 1 Axes>"
            ]
          },
          "metadata": {
            "needs_background": "light"
          },
          "output_type": "display_data"
        }
      ],
      "source": [
        "# visualizing clusters\n",
        "plt.figure(figsize=(7,5))\n",
        "sns.scatterplot(data=df_pca, x='PC1', y='PC8', s=70, hue=kmean.labels_, palette='viridis', zorder=2, alpha=.9)\n",
        "plt.scatter(x=kmean.cluster_centers_[:,0], y=kmean.cluster_centers_[:,1], marker=\"*\", c=\"r\", s=80, label=\"centroids\")\n",
        "plt.xlabel('PC1', family='serif', size=12)\n",
        "plt.ylabel('PC8', family='serif', size=12)\n",
        "plt.xticks(family='serif')\n",
        "plt.yticks(family='serif')\n",
        "plt.grid()\n",
        "plt.tick_params(grid_color='lightgray', grid_linestyle='--', zorder=1)\n",
        "plt.legend(title='Labels', fancybox=True, shadow=True)\n",
        "plt.title('K-Means Clustering Results', family='serif', size=15)\n",
        "plt.show()"
      ]
    },
    {
      "cell_type": "code",
      "execution_count": 43,
      "metadata": {
        "id": "Swfdl7ppOAdD"
      },
      "outputs": [],
      "source": [
        "df4=pd.read_csv(r'C:\\Users\\Chaitali\\Desktop\\ev project\\electric_vehicle_charging_station_list (1).csv')"
      ]
    },
    {
      "cell_type": "code",
      "execution_count": 44,
      "metadata": {
        "colab": {
          "base_uri": "https://localhost:8080/",
          "height": 423
        },
        "id": "ItbyykxX28Rf",
        "outputId": "80171a93-9f90-4ff9-c2ee-59962d3cfe12"
      },
      "outputs": [
        {
          "data": {
            "text/html": [
              "<div>\n",
              "<style scoped>\n",
              "    .dataframe tbody tr th:only-of-type {\n",
              "        vertical-align: middle;\n",
              "    }\n",
              "\n",
              "    .dataframe tbody tr th {\n",
              "        vertical-align: top;\n",
              "    }\n",
              "\n",
              "    .dataframe thead th {\n",
              "        text-align: right;\n",
              "    }\n",
              "</style>\n",
              "<table border=\"1\" class=\"dataframe\">\n",
              "  <thead>\n",
              "    <tr style=\"text-align: right;\">\n",
              "      <th></th>\n",
              "      <th>no</th>\n",
              "      <th>region</th>\n",
              "      <th>address</th>\n",
              "      <th>aux addres</th>\n",
              "      <th>latitude</th>\n",
              "      <th>longitude</th>\n",
              "      <th>type</th>\n",
              "      <th>power</th>\n",
              "      <th>service</th>\n",
              "    </tr>\n",
              "  </thead>\n",
              "  <tbody>\n",
              "    <tr>\n",
              "      <th>0</th>\n",
              "      <td>1</td>\n",
              "      <td>NDMC</td>\n",
              "      <td>Prithviraj Market, Rabindra Nagar, New Delhi- ...</td>\n",
              "      <td>Electric Vehicle Charger, Prithviraj Market, R...</td>\n",
              "      <td>28.600725</td>\n",
              "      <td>77.226252</td>\n",
              "      <td>DC-001</td>\n",
              "      <td>15 kW</td>\n",
              "      <td>Self Service</td>\n",
              "    </tr>\n",
              "    <tr>\n",
              "      <th>1</th>\n",
              "      <td>2</td>\n",
              "      <td>NDMC</td>\n",
              "      <td>Prithviraj Market, Rabindra Nagar, New Delhi- ...</td>\n",
              "      <td>Electric Vehicle Charger, Prithviraj Market, R...</td>\n",
              "      <td>28.600725</td>\n",
              "      <td>77.226252</td>\n",
              "      <td>DC-001</td>\n",
              "      <td>15 kW</td>\n",
              "      <td>Self Service</td>\n",
              "    </tr>\n",
              "    <tr>\n",
              "      <th>2</th>\n",
              "      <td>3</td>\n",
              "      <td>NDMC</td>\n",
              "      <td>Outside RWA Park, Jor Bagh Market, Jor Bagh Co...</td>\n",
              "      <td>Electric Vehicle Charger, Outside RWA Park, Jo...</td>\n",
              "      <td>28.588303</td>\n",
              "      <td>77.217697</td>\n",
              "      <td>DC-001</td>\n",
              "      <td>15 kW</td>\n",
              "      <td>Self Service</td>\n",
              "    </tr>\n",
              "    <tr>\n",
              "      <th>3</th>\n",
              "      <td>4</td>\n",
              "      <td>NDMC</td>\n",
              "      <td>Opposite Dory Pharmacy, Khanna Market, Aliganj...</td>\n",
              "      <td>Electric Vehicle Charger, Opposite Dory Pharma...</td>\n",
              "      <td>28.582654</td>\n",
              "      <td>77.220087</td>\n",
              "      <td>DC-001</td>\n",
              "      <td>15 kW</td>\n",
              "      <td>Self Service</td>\n",
              "    </tr>\n",
              "    <tr>\n",
              "      <th>4</th>\n",
              "      <td>5</td>\n",
              "      <td>NDMC</td>\n",
              "      <td>Opposite Goel Opticals, Khanna Market, Aliganj...</td>\n",
              "      <td>Electric Vehicle Charger, Opposite Goel Optica...</td>\n",
              "      <td>28.584485</td>\n",
              "      <td>77.220316</td>\n",
              "      <td>DC-001</td>\n",
              "      <td>15 kW</td>\n",
              "      <td>Self Service</td>\n",
              "    </tr>\n",
              "    <tr>\n",
              "      <th>...</th>\n",
              "      <td>...</td>\n",
              "      <td>...</td>\n",
              "      <td>...</td>\n",
              "      <td>...</td>\n",
              "      <td>...</td>\n",
              "      <td>...</td>\n",
              "      <td>...</td>\n",
              "      <td>...</td>\n",
              "      <td>...</td>\n",
              "    </tr>\n",
              "    <tr>\n",
              "      <th>197</th>\n",
              "      <td>198</td>\n",
              "      <td>ANERT</td>\n",
              "      <td>State Council For Child Welfare, CV Raman Pill...</td>\n",
              "      <td>Electric Vehicle Charger, State Council For Ch...</td>\n",
              "      <td>8.491622</td>\n",
              "      <td>76.956247</td>\n",
              "      <td>CCS/ChADEMO/ Type 2 AC</td>\n",
              "      <td>142kW</td>\n",
              "      <td>Self Service</td>\n",
              "    </tr>\n",
              "    <tr>\n",
              "      <th>198</th>\n",
              "      <td>199</td>\n",
              "      <td>ANERT</td>\n",
              "      <td>Shanghumukham beach, thiruvananthapuram,Kerala...</td>\n",
              "      <td>Electric Vehicle Charger, Shanghumukham beach,...</td>\n",
              "      <td>8.481051</td>\n",
              "      <td>76.912622</td>\n",
              "      <td>DC-001</td>\n",
              "      <td>15 kW</td>\n",
              "      <td>Self Service</td>\n",
              "    </tr>\n",
              "    <tr>\n",
              "      <th>199</th>\n",
              "      <td>200</td>\n",
              "      <td>ANERT</td>\n",
              "      <td>KTDC Tourist Reception Centre Shanmugham road,...</td>\n",
              "      <td>Electric Vehicle Charger, KTDC Tourist Recepti...</td>\n",
              "      <td>9.976921</td>\n",
              "      <td>76.277781</td>\n",
              "      <td>DC-001</td>\n",
              "      <td>15 kW</td>\n",
              "      <td>Self Service</td>\n",
              "    </tr>\n",
              "    <tr>\n",
              "      <th>200</th>\n",
              "      <td>201</td>\n",
              "      <td>ANERT</td>\n",
              "      <td>State Council For Child Welfare, CV Raman Pill...</td>\n",
              "      <td>Electric Vehicle Charger, State Council For Ch...</td>\n",
              "      <td>8.491622</td>\n",
              "      <td>76.956247</td>\n",
              "      <td>DC-001</td>\n",
              "      <td>15 kW</td>\n",
              "      <td>Self Service</td>\n",
              "    </tr>\n",
              "    <tr>\n",
              "      <th>201</th>\n",
              "      <td>202</td>\n",
              "      <td>SDMC</td>\n",
              "      <td>EESL PVR Priya Vasant Vihar, SDMC parking New ...</td>\n",
              "      <td>Electric Vehicle Charger, EESL PVR Priya Vasan...</td>\n",
              "      <td>28.557662</td>\n",
              "      <td>77.157684</td>\n",
              "      <td>DC-001</td>\n",
              "      <td>15 kW</td>\n",
              "      <td>Self Service</td>\n",
              "    </tr>\n",
              "  </tbody>\n",
              "</table>\n",
              "<p>202 rows × 9 columns</p>\n",
              "</div>"
            ],
            "text/plain": [
              "      no region                                            address  \\\n",
              "0      1   NDMC  Prithviraj Market, Rabindra Nagar, New Delhi- ...   \n",
              "1      2   NDMC  Prithviraj Market, Rabindra Nagar, New Delhi- ...   \n",
              "2      3   NDMC  Outside RWA Park, Jor Bagh Market, Jor Bagh Co...   \n",
              "3      4   NDMC  Opposite Dory Pharmacy, Khanna Market, Aliganj...   \n",
              "4      5   NDMC  Opposite Goel Opticals, Khanna Market, Aliganj...   \n",
              "..   ...    ...                                                ...   \n",
              "197  198  ANERT  State Council For Child Welfare, CV Raman Pill...   \n",
              "198  199  ANERT  Shanghumukham beach, thiruvananthapuram,Kerala...   \n",
              "199  200  ANERT  KTDC Tourist Reception Centre Shanmugham road,...   \n",
              "200  201  ANERT  State Council For Child Welfare, CV Raman Pill...   \n",
              "201  202   SDMC  EESL PVR Priya Vasant Vihar, SDMC parking New ...   \n",
              "\n",
              "                                            aux addres   latitude  longitude  \\\n",
              "0    Electric Vehicle Charger, Prithviraj Market, R...  28.600725  77.226252   \n",
              "1    Electric Vehicle Charger, Prithviraj Market, R...  28.600725  77.226252   \n",
              "2    Electric Vehicle Charger, Outside RWA Park, Jo...  28.588303  77.217697   \n",
              "3    Electric Vehicle Charger, Opposite Dory Pharma...  28.582654  77.220087   \n",
              "4    Electric Vehicle Charger, Opposite Goel Optica...  28.584485  77.220316   \n",
              "..                                                 ...        ...        ...   \n",
              "197  Electric Vehicle Charger, State Council For Ch...   8.491622  76.956247   \n",
              "198  Electric Vehicle Charger, Shanghumukham beach,...   8.481051  76.912622   \n",
              "199  Electric Vehicle Charger, KTDC Tourist Recepti...   9.976921  76.277781   \n",
              "200  Electric Vehicle Charger, State Council For Ch...   8.491622  76.956247   \n",
              "201  Electric Vehicle Charger, EESL PVR Priya Vasan...  28.557662  77.157684   \n",
              "\n",
              "                       type  power       service  \n",
              "0                    DC-001  15 kW  Self Service  \n",
              "1                    DC-001  15 kW  Self Service  \n",
              "2                    DC-001  15 kW  Self Service  \n",
              "3                    DC-001  15 kW  Self Service  \n",
              "4                    DC-001  15 kW  Self Service  \n",
              "..                      ...    ...           ...  \n",
              "197  CCS/ChADEMO/ Type 2 AC  142kW  Self Service  \n",
              "198                  DC-001  15 kW  Self Service  \n",
              "199                  DC-001  15 kW  Self Service  \n",
              "200                  DC-001  15 kW  Self Service  \n",
              "201                  DC-001  15 kW  Self Service  \n",
              "\n",
              "[202 rows x 9 columns]"
            ]
          },
          "execution_count": 44,
          "metadata": {},
          "output_type": "execute_result"
        }
      ],
      "source": [
        "df4"
      ]
    },
    {
      "cell_type": "code",
      "execution_count": 45,
      "metadata": {
        "colab": {
          "base_uri": "https://localhost:8080/"
        },
        "id": "6NjZJE3M2dvE",
        "outputId": "3d4d836f-59cb-421b-b477-6ab4119a3cd6"
      },
      "outputs": [
        {
          "name": "stdout",
          "output_type": "stream",
          "text": [
            "<class 'pandas.core.frame.DataFrame'>\n",
            "RangeIndex: 202 entries, 0 to 201\n",
            "Data columns (total 9 columns):\n",
            " #   Column      Non-Null Count  Dtype  \n",
            "---  ------      --------------  -----  \n",
            " 0   no          202 non-null    int64  \n",
            " 1   region      202 non-null    object \n",
            " 2   address     202 non-null    object \n",
            " 3   aux addres  202 non-null    object \n",
            " 4   latitude    202 non-null    float64\n",
            " 5   longitude   202 non-null    float64\n",
            " 6   type        202 non-null    object \n",
            " 7   power       202 non-null    object \n",
            " 8   service     202 non-null    object \n",
            "dtypes: float64(2), int64(1), object(6)\n",
            "memory usage: 14.3+ KB\n"
          ]
        }
      ],
      "source": [
        "df4.info()"
      ]
    },
    {
      "cell_type": "code",
      "execution_count": 47,
      "metadata": {
        "id": "C7ompViv4F8r"
      },
      "outputs": [],
      "source": [
        "df4['powerinKW'] =  df4['power'].str.extract('(\\d+)').astype(int)"
      ]
    },
    {
      "cell_type": "code",
      "execution_count": 46,
      "metadata": {
        "colab": {
          "base_uri": "https://localhost:8080/"
        },
        "id": "bDPt9Y9K4Shu",
        "outputId": "cf585630-9259-4dc9-df3c-c4e9bf2f7f86"
      },
      "outputs": [
        {
          "name": "stdout",
          "output_type": "stream",
          "text": [
            "<class 'pandas.core.frame.DataFrame'>\n",
            "RangeIndex: 202 entries, 0 to 201\n",
            "Data columns (total 9 columns):\n",
            " #   Column      Non-Null Count  Dtype  \n",
            "---  ------      --------------  -----  \n",
            " 0   no          202 non-null    int64  \n",
            " 1   region      202 non-null    object \n",
            " 2   address     202 non-null    object \n",
            " 3   aux addres  202 non-null    object \n",
            " 4   latitude    202 non-null    float64\n",
            " 5   longitude   202 non-null    float64\n",
            " 6   type        202 non-null    object \n",
            " 7   power       202 non-null    object \n",
            " 8   service     202 non-null    object \n",
            "dtypes: float64(2), int64(1), object(6)\n",
            "memory usage: 14.3+ KB\n"
          ]
        }
      ],
      "source": [
        "df4.info()"
      ]
    },
    {
      "cell_type": "code",
      "execution_count": 48,
      "metadata": {
        "colab": {
          "base_uri": "https://localhost:8080/",
          "height": 559
        },
        "id": "CBJGzD6G5vVf",
        "outputId": "db2ae572-6cc0-4af2-ca0e-0a65f046304a"
      },
      "outputs": [
        {
          "data": {
            "text/plain": [
              "<matplotlib.axes._subplots.AxesSubplot at 0x21391d19cc8>"
            ]
          },
          "execution_count": 48,
          "metadata": {},
          "output_type": "execute_result"
        },
        {
          "data": {
            "image/png": "[encoded data removed]",
            "text/plain": [
              "<Figure size 864x432 with 1 Axes>"
            ]
          },
          "metadata": {
            "needs_background": "light"
          },
          "output_type": "display_data"
        }
      ],
      "source": [
        "plt.figure(figsize=(12, 6))\n",
        "sns.countplot(x ='region', data = df4)"
      ]
    },
    {
      "cell_type": "code",
      "execution_count": 49,
      "metadata": {
        "colab": {
          "base_uri": "https://localhost:8080/",
          "height": 706
        },
        "id": "3YyD1FHQ7Czl",
        "outputId": "2c807365-3bbc-4926-bd9b-f1f4a988aaad"
      },
      "outputs": [
        {
          "data": {
            "image/png": "[encoded data removed]",
            "text/plain": [
              "<Figure size 432x288 with 1 Axes>"
            ]
          },
          "metadata": {},
          "output_type": "display_data"
        }
      ],
      "source": [
        "x = df4['type'].value_counts().plot.pie(radius=2, cmap='viridis', startangle=0, textprops=dict(family='serif'), autopct='%1.1f%%')\n",
        "plt.pie(x=[1], radius=1.2, colors='white')\n",
        "plt.title(label=' ', family='serif', size=15, pad=100)\n",
        "plt.ylabel('')\n",
        "plt.show()"
      ]
    },
    {
      "cell_type": "code",
      "execution_count": 51,
      "metadata": {
        "id": "zeRVajmxU6Ta"
      },
      "outputs": [],
      "source": [
        "df=pd.read_excel(r'C:\\Users\\Chaitali\\Desktop\\ev project\\SmartWay Vehicle List for MY 2024.xlsx')"
      ]
    },
    {
      "cell_type": "code",
      "execution_count": 52,
      "metadata": {
        "colab": {
          "base_uri": "https://localhost:8080/",
          "height": 310
        },
        "id": "4gQuhxccU7tT",
        "outputId": "9065fabd-f6d6-4291-e7c5-95c4c64b7fa0"
      },
      "outputs": [
        {
          "data": {
            "text/html": [
              "<div>\n",
              "<style scoped>\n",
              "    .dataframe tbody tr th:only-of-type {\n",
              "        vertical-align: middle;\n",
              "    }\n",
              "\n",
              "    .dataframe tbody tr th {\n",
              "        vertical-align: top;\n",
              "    }\n",
              "\n",
              "    .dataframe thead th {\n",
              "        text-align: right;\n",
              "    }\n",
              "</style>\n",
              "<table border=\"1\" class=\"dataframe\">\n",
              "  <thead>\n",
              "    <tr style=\"text-align: right;\">\n",
              "      <th></th>\n",
              "      <th>Model</th>\n",
              "      <th>Displ</th>\n",
              "      <th>Cyl</th>\n",
              "      <th>Trans</th>\n",
              "      <th>Drive</th>\n",
              "      <th>Fuel</th>\n",
              "      <th>Cert Region</th>\n",
              "      <th>Stnd</th>\n",
              "      <th>Stnd Description</th>\n",
              "      <th>Underhood ID</th>\n",
              "      <th>Veh Class</th>\n",
              "      <th>Air Pollution Score</th>\n",
              "      <th>City MPG</th>\n",
              "      <th>Hwy MPG</th>\n",
              "      <th>Cmb MPG</th>\n",
              "      <th>Greenhouse Gas Score</th>\n",
              "      <th>SmartWay</th>\n",
              "    </tr>\n",
              "  </thead>\n",
              "  <tbody>\n",
              "    <tr>\n",
              "      <th>0</th>\n",
              "      <td>AUDI Q4 40 e-tron</td>\n",
              "      <td>NaN</td>\n",
              "      <td>NaN</td>\n",
              "      <td>Auto-1</td>\n",
              "      <td>2WD</td>\n",
              "      <td>Electricity</td>\n",
              "      <td>FA</td>\n",
              "      <td>T3B0</td>\n",
              "      <td>Federal Tier 3 Bin 0</td>\n",
              "      <td>RVGAV00.0NZ4</td>\n",
              "      <td>standard SUV</td>\n",
              "      <td>10</td>\n",
              "      <td>30</td>\n",
              "      <td>36</td>\n",
              "      <td>33</td>\n",
              "      <td>10</td>\n",
              "      <td>Elite</td>\n",
              "    </tr>\n",
              "    <tr>\n",
              "      <th>1</th>\n",
              "      <td>AUDI Q4 40 e-tron</td>\n",
              "      <td>NaN</td>\n",
              "      <td>NaN</td>\n",
              "      <td>Auto-1</td>\n",
              "      <td>2WD</td>\n",
              "      <td>Electricity</td>\n",
              "      <td>CA</td>\n",
              "      <td>ZEV</td>\n",
              "      <td>California ZEV</td>\n",
              "      <td>RVGAV00.0NZ4</td>\n",
              "      <td>standard SUV</td>\n",
              "      <td>10</td>\n",
              "      <td>30</td>\n",
              "      <td>36</td>\n",
              "      <td>33</td>\n",
              "      <td>10</td>\n",
              "      <td>Elite</td>\n",
              "    </tr>\n",
              "    <tr>\n",
              "      <th>2</th>\n",
              "      <td>AUDI Q4 50 e-tron quattro</td>\n",
              "      <td>NaN</td>\n",
              "      <td>NaN</td>\n",
              "      <td>Auto-1</td>\n",
              "      <td>4WD</td>\n",
              "      <td>Electricity</td>\n",
              "      <td>FA</td>\n",
              "      <td>T3B0</td>\n",
              "      <td>Federal Tier 3 Bin 0</td>\n",
              "      <td>RVGAJ00.0NZ5</td>\n",
              "      <td>standard SUV</td>\n",
              "      <td>10</td>\n",
              "      <td>97</td>\n",
              "      <td>87</td>\n",
              "      <td>93</td>\n",
              "      <td>10</td>\n",
              "      <td>Elite</td>\n",
              "    </tr>\n",
              "    <tr>\n",
              "      <th>3</th>\n",
              "      <td>AUDI Q4 50 e-tron quattro</td>\n",
              "      <td>NaN</td>\n",
              "      <td>NaN</td>\n",
              "      <td>Auto-1</td>\n",
              "      <td>4WD</td>\n",
              "      <td>Electricity</td>\n",
              "      <td>CA</td>\n",
              "      <td>ZEV</td>\n",
              "      <td>California ZEV</td>\n",
              "      <td>RVGAJ00.0NZ5</td>\n",
              "      <td>standard SUV</td>\n",
              "      <td>10</td>\n",
              "      <td>97</td>\n",
              "      <td>87</td>\n",
              "      <td>93</td>\n",
              "      <td>10</td>\n",
              "      <td>Elite</td>\n",
              "    </tr>\n",
              "    <tr>\n",
              "      <th>4</th>\n",
              "      <td>AUDI Q4 Sportback 50 e-tron quattro</td>\n",
              "      <td>NaN</td>\n",
              "      <td>NaN</td>\n",
              "      <td>Auto-1</td>\n",
              "      <td>4WD</td>\n",
              "      <td>Electricity</td>\n",
              "      <td>FA</td>\n",
              "      <td>T3B0</td>\n",
              "      <td>Federal Tier 3 Bin 0</td>\n",
              "      <td>RVGAJ00.0NZ5</td>\n",
              "      <td>standard SUV</td>\n",
              "      <td>10</td>\n",
              "      <td>100</td>\n",
              "      <td>89</td>\n",
              "      <td>95</td>\n",
              "      <td>10</td>\n",
              "      <td>Elite</td>\n",
              "    </tr>\n",
              "  </tbody>\n",
              "</table>\n",
              "</div>"
            ],
            "text/plain": [
              "                                 Model  Displ  Cyl   Trans Drive         Fuel  \\\n",
              "0                    AUDI Q4 40 e-tron    NaN  NaN  Auto-1   2WD  Electricity   \n",
              "1                    AUDI Q4 40 e-tron    NaN  NaN  Auto-1   2WD  Electricity   \n",
              "2            AUDI Q4 50 e-tron quattro    NaN  NaN  Auto-1   4WD  Electricity   \n",
              "3            AUDI Q4 50 e-tron quattro    NaN  NaN  Auto-1   4WD  Electricity   \n",
              "4  AUDI Q4 Sportback 50 e-tron quattro    NaN  NaN  Auto-1   4WD  Electricity   \n",
              "\n",
              "  Cert Region  Stnd      Stnd Description  Underhood ID     Veh Class  \\\n",
              "0          FA  T3B0  Federal Tier 3 Bin 0  RVGAV00.0NZ4  standard SUV   \n",
              "1          CA   ZEV        California ZEV  RVGAV00.0NZ4  standard SUV   \n",
              "2          FA  T3B0  Federal Tier 3 Bin 0  RVGAJ00.0NZ5  standard SUV   \n",
              "3          CA   ZEV        California ZEV  RVGAJ00.0NZ5  standard SUV   \n",
              "4          FA  T3B0  Federal Tier 3 Bin 0  RVGAJ00.0NZ5  standard SUV   \n",
              "\n",
              "   Air Pollution Score City MPG Hwy MPG Cmb MPG  Greenhouse Gas Score SmartWay  \n",
              "0                   10       30      36      33                    10    Elite  \n",
              "1                   10       30      36      33                    10    Elite  \n",
              "2                   10       97      87      93                    10    Elite  \n",
              "3                   10       97      87      93                    10    Elite  \n",
              "4                   10      100      89      95                    10    Elite  "
            ]
          },
          "execution_count": 52,
          "metadata": {},
          "output_type": "execute_result"
        }
      ],
      "source": [
        "df.head()"
      ]
    },
    {
      "cell_type": "code",
      "execution_count": null,
      "metadata": {
        "colab": {
          "base_uri": "https://localhost:8080/"
        },
        "id": "2nhVc5zLVIOk",
        "outputId": "e4eaa074-b336-4b63-ded3-c053fc180721"
      },
      "outputs": [
        {
          "data": {
            "text/plain": [
              "array(['Electricity', 'Gasoline/Electricity', 'Gasoline', 'Hydrogen'],\n",
              "      dtype=object)"
            ]
          },
          "execution_count": 96,
          "metadata": {},
          "output_type": "execute_result"
        }
      ],
      "source": [
        "df[\"Fuel\"].unique()"
      ]
    },
    {
      "cell_type": "code",
      "execution_count": null,
      "metadata": {
        "colab": {
          "base_uri": "https://localhost:8080/"
        },
        "id": "qc-dLfOgVNMh",
        "outputId": "e3f76ed3-5745-48ca-b7f4-3a94f92fb4cc"
      },
      "outputs": [
        {
          "name": "stdout",
          "output_type": "stream",
          "text": [
            "<class 'pandas.core.frame.DataFrame'>\n",
            "RangeIndex: 318 entries, 0 to 317\n",
            "Data columns (total 17 columns):\n",
            " #   Column                Non-Null Count  Dtype  \n",
            "---  ------                --------------  -----  \n",
            " 0   Model                 318 non-null    object \n",
            " 1   Displ                 66 non-null     float64\n",
            " 2   Cyl                   66 non-null     float64\n",
            " 3   Trans                 318 non-null    object \n",
            " 4   Drive                 318 non-null    object \n",
            " 5   Fuel                  318 non-null    object \n",
            " 6   Cert Region           318 non-null    object \n",
            " 7   Stnd                  318 non-null    object \n",
            " 8   Stnd Description      318 non-null    object \n",
            " 9   Underhood ID          318 non-null    object \n",
            " 10  Veh Class             318 non-null    object \n",
            " 11  Air Pollution Score   318 non-null    int64  \n",
            " 12  City MPG              318 non-null    object \n",
            " 13  Hwy MPG               318 non-null    object \n",
            " 14  Cmb MPG               318 non-null    object \n",
            " 15  Greenhouse Gas Score  318 non-null    int64  \n",
            " 16  SmartWay              318 non-null    object \n",
            "dtypes: float64(2), int64(2), object(13)\n",
            "memory usage: 42.4+ KB\n"
          ]
        }
      ],
      "source": [
        "df.info()"
      ]
    },
    {
      "cell_type": "code",
      "execution_count": null,
      "metadata": {
        "colab": {
          "base_uri": "https://localhost:8080/"
        },
        "id": "HUvFVpk5VPTL",
        "outputId": "c243d033-bacd-4ae7-f69b-db018685e279"
      },
      "outputs": [
        {
          "data": {
            "text/plain": [
              "Model                     0\n",
              "Displ                   252\n",
              "Cyl                     252\n",
              "Trans                     0\n",
              "Drive                     0\n",
              "Fuel                      0\n",
              "Cert Region               0\n",
              "Stnd                      0\n",
              "Stnd Description          0\n",
              "Underhood ID              0\n",
              "Veh Class                 0\n",
              "Air Pollution Score       0\n",
              "City MPG                  0\n",
              "Hwy MPG                   0\n",
              "Cmb MPG                   0\n",
              "Greenhouse Gas Score      0\n",
              "SmartWay                  0\n",
              "dtype: int64"
            ]
          },
          "execution_count": 98,
          "metadata": {},
          "output_type": "execute_result"
        }
      ],
      "source": [
        "df.isnull().sum()"
      ]
    },
    {
      "cell_type": "code",
      "execution_count": null,
      "metadata": {
        "id": "0I5GrpVkVTtm"
      },
      "outputs": [],
      "source": [
        "df=df.drop([\"Displ\",\"Cyl\"], axis=1)"
      ]
    },
    {
      "cell_type": "code",
      "execution_count": null,
      "metadata": {
        "colab": {
          "base_uri": "https://localhost:8080/",
          "height": 310
        },
        "id": "RvOHKMsJVZGQ",
        "outputId": "ac0c9bca-6e61-40b4-9b3f-71d20b66727b"
      },
      "outputs": [
        {
          "data": {
            "text/html": [
              "\n",
              "  <div id=\"df-80ff88e6-d0b4-4b82-a5bd-5c48d232cb91\" class=\"colab-df-container\">\n",
              "    <div>\n",
              "<style scoped>\n",
              "    .dataframe tbody tr th:only-of-type {\n",
              "        vertical-align: middle;\n",
              "    }\n",
              "\n",
              "    .dataframe tbody tr th {\n",
              "        vertical-align: top;\n",
              "    }\n",
              "\n",
              "    .dataframe thead th {\n",
              "        text-align: right;\n",
              "    }\n",
              "</style>\n",
              "<table border=\"1\" class=\"dataframe\">\n",
              "  <thead>\n",
              "    <tr style=\"text-align: right;\">\n",
              "      <th></th>\n",
              "      <th>Model</th>\n",
              "      <th>Trans</th>\n",
              "      <th>Drive</th>\n",
              "      <th>Fuel</th>\n",
              "      <th>Cert Region</th>\n",
              "      <th>Stnd</th>\n",
              "      <th>Stnd Description</th>\n",
              "      <th>Underhood ID</th>\n",
              "      <th>Veh Class</th>\n",
              "      <th>Air Pollution Score</th>\n",
              "      <th>City MPG</th>\n",
              "      <th>Hwy MPG</th>\n",
              "      <th>Cmb MPG</th>\n",
              "      <th>Greenhouse Gas Score</th>\n",
              "      <th>SmartWay</th>\n",
              "    </tr>\n",
              "  </thead>\n",
              "  <tbody>\n",
              "    <tr>\n",
              "      <th>0</th>\n",
              "      <td>AUDI Q4 40 e-tron</td>\n",
              "      <td>Auto-1</td>\n",
              "      <td>2WD</td>\n",
              "      <td>Electricity</td>\n",
              "      <td>FA</td>\n",
              "      <td>T3B0</td>\n",
              "      <td>Federal Tier 3 Bin 0</td>\n",
              "      <td>RVGAV00.0NZ4</td>\n",
              "      <td>standard SUV</td>\n",
              "      <td>10</td>\n",
              "      <td>30</td>\n",
              "      <td>36</td>\n",
              "      <td>33</td>\n",
              "      <td>10</td>\n",
              "      <td>Elite</td>\n",
              "    </tr>\n",
              "    <tr>\n",
              "      <th>1</th>\n",
              "      <td>AUDI Q4 40 e-tron</td>\n",
              "      <td>Auto-1</td>\n",
              "      <td>2WD</td>\n",
              "      <td>Electricity</td>\n",
              "      <td>CA</td>\n",
              "      <td>ZEV</td>\n",
              "      <td>California ZEV</td>\n",
              "      <td>RVGAV00.0NZ4</td>\n",
              "      <td>standard SUV</td>\n",
              "      <td>10</td>\n",
              "      <td>30</td>\n",
              "      <td>36</td>\n",
              "      <td>33</td>\n",
              "      <td>10</td>\n",
              "      <td>Elite</td>\n",
              "    </tr>\n",
              "    <tr>\n",
              "      <th>2</th>\n",
              "      <td>AUDI Q4 50 e-tron quattro</td>\n",
              "      <td>Auto-1</td>\n",
              "      <td>4WD</td>\n",
              "      <td>Electricity</td>\n",
              "      <td>FA</td>\n",
              "      <td>T3B0</td>\n",
              "      <td>Federal Tier 3 Bin 0</td>\n",
              "      <td>RVGAJ00.0NZ5</td>\n",
              "      <td>standard SUV</td>\n",
              "      <td>10</td>\n",
              "      <td>97</td>\n",
              "      <td>87</td>\n",
              "      <td>93</td>\n",
              "      <td>10</td>\n",
              "      <td>Elite</td>\n",
              "    </tr>\n",
              "    <tr>\n",
              "      <th>3</th>\n",
              "      <td>AUDI Q4 50 e-tron quattro</td>\n",
              "      <td>Auto-1</td>\n",
              "      <td>4WD</td>\n",
              "      <td>Electricity</td>\n",
              "      <td>CA</td>\n",
              "      <td>ZEV</td>\n",
              "      <td>California ZEV</td>\n",
              "      <td>RVGAJ00.0NZ5</td>\n",
              "      <td>standard SUV</td>\n",
              "      <td>10</td>\n",
              "      <td>97</td>\n",
              "      <td>87</td>\n",
              "      <td>93</td>\n",
              "      <td>10</td>\n",
              "      <td>Elite</td>\n",
              "    </tr>\n",
              "    <tr>\n",
              "      <th>4</th>\n",
              "      <td>AUDI Q4 Sportback 50 e-tron quattro</td>\n",
              "      <td>Auto-1</td>\n",
              "      <td>4WD</td>\n",
              "      <td>Electricity</td>\n",
              "      <td>FA</td>\n",
              "      <td>T3B0</td>\n",
              "      <td>Federal Tier 3 Bin 0</td>\n",
              "      <td>RVGAJ00.0NZ5</td>\n",
              "      <td>standard SUV</td>\n",
              "      <td>10</td>\n",
              "      <td>100</td>\n",
              "      <td>89</td>\n",
              "      <td>95</td>\n",
              "      <td>10</td>\n",
              "      <td>Elite</td>\n",
              "    </tr>\n",
              "  </tbody>\n",
              "</table>\n",
              "</div>\n",
              "    <div class=\"colab-df-buttons\">\n",
              "\n",
              "  <div class=\"colab-df-container\">\n",
              "    <button class=\"colab-df-convert\" onclick=\"convertToInteractive('df-80ff88e6-d0b4-4b82-a5bd-5c48d232cb91')\"\n",
              "            title=\"Convert this dataframe to an interactive table.\"\n",
              "            style=\"display:none;\">\n",
              "\n",
              "  <svg xmlns=\"http://www.w3.org/2000/svg\" height=\"24px\" viewBox=\"0 -960 960 960\">\n",
              "    <path d=\"M120-120v-720h720v720H120Zm60-500h600v-160H180v160Zm220 220h160v-160H400v160Zm0 220h160v-160H400v160ZM180-400h160v-160H180v160Zm440 0h160v-160H620v160ZM180-180h160v-160H180v160Zm440 0h160v-160H620v160Z\"/>\n",
              "  </svg>\n",
              "    </button>\n",
              "\n",
              "  <style>\n",
              "    .colab-df-container {\n",
              "      display:flex;\n",
              "      gap: 12px;\n",
              "    }\n",
              "\n",
              "    .colab-df-convert {\n",
              "      background-color: #E8F0FE;\n",
              "      border: none;\n",
              "      border-radius: 50%;\n",
              "      cursor: pointer;\n",
              "      display: none;\n",
              "      fill: #1967D2;\n",
              "      height: 32px;\n",
              "      padding: 0 0 0 0;\n",
              "      width: 32px;\n",
              "    }\n",
              "\n",
              "    .colab-df-convert:hover {\n",
              "      background-color: #E2EBFA;\n",
              "      box-shadow: 0px 1px 2px rgba(60, 64, 67, 0.3), 0px 1px 3px 1px rgba(60, 64, 67, 0.15);\n",
              "      fill: #174EA6;\n",
              "    }\n",
              "\n",
              "    .colab-df-buttons div {\n",
              "      margin-bottom: 4px;\n",
              "    }\n",
              "\n",
              "    [theme=dark] .colab-df-convert {\n",
              "      background-color: #3B4455;\n",
              "      fill: #D2E3FC;\n",
              "    }\n",
              "\n",
              "    [theme=dark] .colab-df-convert:hover {\n",
              "      background-color: #434B5C;\n",
              "      box-shadow: 0px 1px 3px 1px rgba(0, 0, 0, 0.15);\n",
              "      filter: drop-shadow(0px 1px 2px rgba(0, 0, 0, 0.3));\n",
              "      fill: #FFFFFF;\n",
              "    }\n",
              "  </style>\n",
              "\n",
              "    <script>\n",
              "      const buttonEl =\n",
              "        document.querySelector('#df-80ff88e6-d0b4-4b82-a5bd-5c48d232cb91 button.colab-df-convert');\n",
              "      buttonEl.style.display =\n",
              "        google.colab.kernel.accessAllowed ? 'block' : 'none';\n",
              "\n",
              "      async function convertToInteractive(key) {\n",
              "        const element = document.querySelector('#df-80ff88e6-d0b4-4b82-a5bd-5c48d232cb91');\n",
              "        const dataTable =\n",
              "          await google.colab.kernel.invokeFunction('convertToInteractive',\n",
              "                                                    [key], {});\n",
              "        if (!dataTable) return;\n",
              "\n",
              "        const docLinkHtml = 'Like what you see? Visit the ' +\n",
              "          '<a target=\"_blank\" href=https://colab.research.google.com/notebooks/data_table.ipynb>data table notebook</a>'\n",
              "          + ' to learn more about interactive tables.';\n",
              "        element.innerHTML = '';\n",
              "        dataTable['output_type'] = 'display_data';\n",
              "        await google.colab.output.renderOutput(dataTable, element);\n",
              "        const docLink = document.createElement('div');\n",
              "        docLink.innerHTML = docLinkHtml;\n",
              "        element.appendChild(docLink);\n",
              "      }\n",
              "    </script>\n",
              "  </div>\n",
              "\n",
              "\n",
              "<div id=\"df-2312edb3-41ae-42e2-947e-58a9493fa51d\">\n",
              "  <button class=\"colab-df-quickchart\" onclick=\"quickchart('df-2312edb3-41ae-42e2-947e-58a9493fa51d')\"\n",
              "            title=\"Suggest charts\"\n",
              "            style=\"display:none;\">\n",
              "\n",
              "<svg xmlns=\"http://www.w3.org/2000/svg\" height=\"24px\"viewBox=\"0 0 24 24\"\n",
              "     width=\"24px\">\n",
              "    <g>\n",
              "        <path d=\"M19 3H5c-1.1 0-2 .9-2 2v14c0 1.1.9 2 2 2h14c1.1 0 2-.9 2-2V5c0-1.1-.9-2-2-2zM9 17H7v-7h2v7zm4 0h-2V7h2v10zm4 0h-2v-4h2v4z\"/>\n",
              "    </g>\n",
              "</svg>\n",
              "  </button>\n",
              "\n",
              "<style>\n",
              "  .colab-df-quickchart {\n",
              "      --bg-color: #E8F0FE;\n",
              "      --fill-color: #1967D2;\n",
              "      --hover-bg-color: #E2EBFA;\n",
              "      --hover-fill-color: #174EA6;\n",
              "      --disabled-fill-color: #AAA;\n",
              "      --disabled-bg-color: #DDD;\n",
              "  }\n",
              "\n",
              "  [theme=dark] .colab-df-quickchart {\n",
              "      --bg-color: #3B4455;\n",
              "      --fill-color: #D2E3FC;\n",
              "      --hover-bg-color: #434B5C;\n",
              "      --hover-fill-color: #FFFFFF;\n",
              "      --disabled-bg-color: #3B4455;\n",
              "      --disabled-fill-color: #666;\n",
              "  }\n",
              "\n",
              "  .colab-df-quickchart {\n",
              "    background-color: var(--bg-color);\n",
              "    border: none;\n",
              "    border-radius: 50%;\n",
              "    cursor: pointer;\n",
              "    display: none;\n",
              "    fill: var(--fill-color);\n",
              "    height: 32px;\n",
              "    padding: 0;\n",
              "    width: 32px;\n",
              "  }\n",
              "\n",
              "  .colab-df-quickchart:hover {\n",
              "    background-color: var(--hover-bg-color);\n",
              "    box-shadow: 0 1px 2px rgba(60, 64, 67, 0.3), 0 1px 3px 1px rgba(60, 64, 67, 0.15);\n",
              "    fill: var(--button-hover-fill-color);\n",
              "  }\n",
              "\n",
              "  .colab-df-quickchart-complete:disabled,\n",
              "  .colab-df-quickchart-complete:disabled:hover {\n",
              "    background-color: var(--disabled-bg-color);\n",
              "    fill: var(--disabled-fill-color);\n",
              "    box-shadow: none;\n",
              "  }\n",
              "\n",
              "  .colab-df-spinner {\n",
              "    border: 2px solid var(--fill-color);\n",
              "    border-color: transparent;\n",
              "    border-bottom-color: var(--fill-color);\n",
              "    animation:\n",
              "      spin 1s steps(1) infinite;\n",
              "  }\n",
              "\n",
              "  @keyframes spin {\n",
              "    0% {\n",
              "      border-color: transparent;\n",
              "      border-bottom-color: var(--fill-color);\n",
              "      border-left-color: var(--fill-color);\n",
              "    }\n",
              "    20% {\n",
              "      border-color: transparent;\n",
              "      border-left-color: var(--fill-color);\n",
              "      border-top-color: var(--fill-color);\n",
              "    }\n",
              "    30% {\n",
              "      border-color: transparent;\n",
              "      border-left-color: var(--fill-color);\n",
              "      border-top-color: var(--fill-color);\n",
              "      border-right-color: var(--fill-color);\n",
              "    }\n",
              "    40% {\n",
              "      border-color: transparent;\n",
              "      border-right-color: var(--fill-color);\n",
              "      border-top-color: var(--fill-color);\n",
              "    }\n",
              "    60% {\n",
              "      border-color: transparent;\n",
              "      border-right-color: var(--fill-color);\n",
              "    }\n",
              "    80% {\n",
              "      border-color: transparent;\n",
              "      border-right-color: var(--fill-color);\n",
              "      border-bottom-color: var(--fill-color);\n",
              "    }\n",
              "    90% {\n",
              "      border-color: transparent;\n",
              "      border-bottom-color: var(--fill-color);\n",
              "    }\n",
              "  }\n",
              "</style>\n",
              "\n",
              "  <script>\n",
              "    async function quickchart(key) {\n",
              "      const quickchartButtonEl =\n",
              "        document.querySelector('#' + key + ' button');\n",
              "      quickchartButtonEl.disabled = true;  // To prevent multiple clicks.\n",
              "      quickchartButtonEl.classList.add('colab-df-spinner');\n",
              "      try {\n",
              "        const charts = await google.colab.kernel.invokeFunction(\n",
              "            'suggestCharts', [key], {});\n",
              "      } catch (error) {\n",
              "        console.error('Error during call to suggestCharts:', error);\n",
              "      }\n",
              "      quickchartButtonEl.classList.remove('colab-df-spinner');\n",
              "      quickchartButtonEl.classList.add('colab-df-quickchart-complete');\n",
              "    }\n",
              "    (() => {\n",
              "      let quickchartButtonEl =\n",
              "        document.querySelector('#df-2312edb3-41ae-42e2-947e-58a9493fa51d button');\n",
              "      quickchartButtonEl.style.display =\n",
              "        google.colab.kernel.accessAllowed ? 'block' : 'none';\n",
              "    })();\n",
              "  </script>\n",
              "</div>\n",
              "\n",
              "    </div>\n",
              "  </div>\n"
            ],
            "text/plain": [
              "                                 Model   Trans Drive         Fuel Cert Region  \\\n",
              "0                    AUDI Q4 40 e-tron  Auto-1   2WD  Electricity          FA   \n",
              "1                    AUDI Q4 40 e-tron  Auto-1   2WD  Electricity          CA   \n",
              "2            AUDI Q4 50 e-tron quattro  Auto-1   4WD  Electricity          FA   \n",
              "3            AUDI Q4 50 e-tron quattro  Auto-1   4WD  Electricity          CA   \n",
              "4  AUDI Q4 Sportback 50 e-tron quattro  Auto-1   4WD  Electricity          FA   \n",
              "\n",
              "   Stnd      Stnd Description  Underhood ID     Veh Class  \\\n",
              "0  T3B0  Federal Tier 3 Bin 0  RVGAV00.0NZ4  standard SUV   \n",
              "1   ZEV        California ZEV  RVGAV00.0NZ4  standard SUV   \n",
              "2  T3B0  Federal Tier 3 Bin 0  RVGAJ00.0NZ5  standard SUV   \n",
              "3   ZEV        California ZEV  RVGAJ00.0NZ5  standard SUV   \n",
              "4  T3B0  Federal Tier 3 Bin 0  RVGAJ00.0NZ5  standard SUV   \n",
              "\n",
              "   Air Pollution Score City MPG Hwy MPG Cmb MPG  Greenhouse Gas Score SmartWay  \n",
              "0                   10       30      36      33                    10    Elite  \n",
              "1                   10       30      36      33                    10    Elite  \n",
              "2                   10       97      87      93                    10    Elite  \n",
              "3                   10       97      87      93                    10    Elite  \n",
              "4                   10      100      89      95                    10    Elite  "
            ]
          },
          "execution_count": 100,
          "metadata": {},
          "output_type": "execute_result"
        }
      ],
      "source": [
        "df.head()"
      ]
    },
    {
      "cell_type": "code",
      "execution_count": null,
      "metadata": {
        "colab": {
          "base_uri": "https://localhost:8080/"
        },
        "id": "gehAbprwVcvx",
        "outputId": "3357fd80-627b-461e-ee4f-2713a90b7475"
      },
      "outputs": [
        {
          "data": {
            "text/plain": [
              "Auto-1        214\n",
              "Auto-2         40\n",
              "SemiAuto-8     20\n",
              "CVT            18\n",
              "AMS-6          10\n",
              "SCV-6          10\n",
              "AMS-7           2\n",
              "Auto-8          2\n",
              "Auto-9          2\n",
              "Name: Trans, dtype: int64"
            ]
          },
          "execution_count": 101,
          "metadata": {},
          "output_type": "execute_result"
        }
      ],
      "source": [
        "df[\"Trans\"].value_counts()"
      ]
    },
    {
      "cell_type": "code",
      "execution_count": null,
      "metadata": {
        "colab": {
          "base_uri": "https://localhost:8080/"
        },
        "id": "Hw6T2jTEVgZf",
        "outputId": "445efdac-9ff5-4678-b301-0c91f9e53618"
      },
      "outputs": [
        {
          "data": {
            "text/plain": [
              "array([0, 1])"
            ]
          },
          "execution_count": 102,
          "metadata": {},
          "output_type": "execute_result"
        }
      ],
      "source": [
        "from sklearn import preprocessing\n",
        "\n",
        "# label_encoder object knows\n",
        "# how to understand word labels.\n",
        "label_encoder = preprocessing.LabelEncoder()\n",
        "\n",
        "# Encode labels in column 'species'.\n",
        "df['Drive']= label_encoder.fit_transform(df['Drive'])\n",
        "\n",
        "df['Drive'].unique()"
      ]
    },
    {
      "cell_type": "code",
      "execution_count": null,
      "metadata": {
        "colab": {
          "base_uri": "https://localhost:8080/"
        },
        "id": "Z6p2XY8KVlhj",
        "outputId": "dcffc867-f224-4fbb-974a-86af87af4d17"
      },
      "outputs": [
        {
          "data": {
            "text/plain": [
              "array([2, 1, 3, 8, 6, 0, 4, 7, 5])"
            ]
          },
          "execution_count": 103,
          "metadata": {},
          "output_type": "execute_result"
        }
      ],
      "source": [
        "df['Trans']= label_encoder.fit_transform(df['Trans'])\n",
        "\n",
        "df['Trans'].unique()"
      ]
    },
    {
      "cell_type": "code",
      "execution_count": null,
      "metadata": {
        "colab": {
          "base_uri": "https://localhost:8080/"
        },
        "id": "mbp1p_A6VoMS",
        "outputId": "9d871d7c-4581-4c5e-dc30-8d9cc5a77f14"
      },
      "outputs": [
        {
          "data": {
            "text/plain": [
              "array([0, 2, 1, 3])"
            ]
          },
          "execution_count": 104,
          "metadata": {},
          "output_type": "execute_result"
        }
      ],
      "source": [
        "df['Fuel']= label_encoder.fit_transform(df['Fuel'])\n",
        "\n",
        "df['Fuel'].unique()"
      ]
    },
    {
      "cell_type": "code",
      "execution_count": null,
      "metadata": {
        "colab": {
          "base_uri": "https://localhost:8080/"
        },
        "id": "I7Ukh6xtVqXS",
        "outputId": "ef0d1fe7-cb42-4c09-d2ab-6404dbaab424"
      },
      "outputs": [
        {
          "data": {
            "text/plain": [
              "array([7, 4, 1, 5, 0, 3, 2, 8, 6])"
            ]
          },
          "execution_count": 105,
          "metadata": {},
          "output_type": "execute_result"
        }
      ],
      "source": [
        "df['Veh Class']= label_encoder.fit_transform(df['Veh Class'])\n",
        "\n",
        "df['Veh Class'].unique()"
      ]
    },
    {
      "cell_type": "code",
      "execution_count": null,
      "metadata": {
        "colab": {
          "base_uri": "https://localhost:8080/"
        },
        "id": "6vXkElOzVtM6",
        "outputId": "b4adf356-de24-4deb-fb26-c78a26ba94b4"
      },
      "outputs": [
        {
          "name": "stdout",
          "output_type": "stream",
          "text": [
            "<class 'pandas.core.frame.DataFrame'>\n",
            "RangeIndex: 318 entries, 0 to 317\n",
            "Data columns (total 15 columns):\n",
            " #   Column                Non-Null Count  Dtype \n",
            "---  ------                --------------  ----- \n",
            " 0   Model                 318 non-null    object\n",
            " 1   Trans                 318 non-null    int64 \n",
            " 2   Drive                 318 non-null    int64 \n",
            " 3   Fuel                  318 non-null    int64 \n",
            " 4   Cert Region           318 non-null    object\n",
            " 5   Stnd                  318 non-null    object\n",
            " 6   Stnd Description      318 non-null    object\n",
            " 7   Underhood ID          318 non-null    object\n",
            " 8   Veh Class             318 non-null    int64 \n",
            " 9   Air Pollution Score   318 non-null    int64 \n",
            " 10  City MPG              318 non-null    object\n",
            " 11  Hwy MPG               318 non-null    object\n",
            " 12  Cmb MPG               318 non-null    object\n",
            " 13  Greenhouse Gas Score  318 non-null    int64 \n",
            " 14  SmartWay              318 non-null    object\n",
            "dtypes: int64(6), object(9)\n",
            "memory usage: 37.4+ KB\n"
          ]
        }
      ],
      "source": [
        "df.info()"
      ]
    },
    {
      "cell_type": "code",
      "execution_count": 53,
      "metadata": {
        "id": "imf-ivxTAwMr"
      },
      "outputs": [],
      "source": [
        "df['City MPG']= df['City MPG'].str.extract('(\\d+)').astype(int)"
      ]
    },
    {
      "cell_type": "code",
      "execution_count": 54,
      "metadata": {
        "id": "7YKNSHySA11T"
      },
      "outputs": [],
      "source": [
        "df['Hwy MPG']= df['Hwy MPG'].str.extract('(\\d+)').astype(int)"
      ]
    },
    {
      "cell_type": "code",
      "execution_count": null,
      "metadata": {
        "id": "ZR29r6D6BG_I"
      },
      "outputs": [],
      "source": [
        "df['Cmb MPG']= df['Cmb MPG'].str.extract('(\\d+)').astype(int)"
      ]
    },
    {
      "cell_type": "code",
      "execution_count": null,
      "metadata": {
        "colab": {
          "base_uri": "https://localhost:8080/",
          "height": 275
        },
        "id": "bCGqgeQaBLAO",
        "outputId": "1885944a-58e1-4414-8dab-7d5d9f49a86d"
      },
      "outputs": [
        {
          "data": {
            "text/html": [
              "\n",
              "  <div id=\"df-3cd01054-5eaa-48c4-b7b1-426e1707079b\" class=\"colab-df-container\">\n",
              "    <div>\n",
              "<style scoped>\n",
              "    .dataframe tbody tr th:only-of-type {\n",
              "        vertical-align: middle;\n",
              "    }\n",
              "\n",
              "    .dataframe tbody tr th {\n",
              "        vertical-align: top;\n",
              "    }\n",
              "\n",
              "    .dataframe thead th {\n",
              "        text-align: right;\n",
              "    }\n",
              "</style>\n",
              "<table border=\"1\" class=\"dataframe\">\n",
              "  <thead>\n",
              "    <tr style=\"text-align: right;\">\n",
              "      <th></th>\n",
              "      <th>Model</th>\n",
              "      <th>Trans</th>\n",
              "      <th>Drive</th>\n",
              "      <th>Fuel</th>\n",
              "      <th>Cert Region</th>\n",
              "      <th>Stnd</th>\n",
              "      <th>Stnd Description</th>\n",
              "      <th>Underhood ID</th>\n",
              "      <th>Veh Class</th>\n",
              "      <th>Air Pollution Score</th>\n",
              "      <th>City MPG</th>\n",
              "      <th>Hwy MPG</th>\n",
              "      <th>Cmb MPG</th>\n",
              "      <th>Greenhouse Gas Score</th>\n",
              "      <th>SmartWay</th>\n",
              "    </tr>\n",
              "  </thead>\n",
              "  <tbody>\n",
              "    <tr>\n",
              "      <th>0</th>\n",
              "      <td>AUDI Q4 40 e-tron</td>\n",
              "      <td>2</td>\n",
              "      <td>0</td>\n",
              "      <td>0</td>\n",
              "      <td>FA</td>\n",
              "      <td>T3B0</td>\n",
              "      <td>Federal Tier 3 Bin 0</td>\n",
              "      <td>RVGAV00.0NZ4</td>\n",
              "      <td>7</td>\n",
              "      <td>10</td>\n",
              "      <td>30</td>\n",
              "      <td>36</td>\n",
              "      <td>33</td>\n",
              "      <td>10</td>\n",
              "      <td>Elite</td>\n",
              "    </tr>\n",
              "    <tr>\n",
              "      <th>1</th>\n",
              "      <td>AUDI Q4 40 e-tron</td>\n",
              "      <td>2</td>\n",
              "      <td>0</td>\n",
              "      <td>0</td>\n",
              "      <td>CA</td>\n",
              "      <td>ZEV</td>\n",
              "      <td>California ZEV</td>\n",
              "      <td>RVGAV00.0NZ4</td>\n",
              "      <td>7</td>\n",
              "      <td>10</td>\n",
              "      <td>30</td>\n",
              "      <td>36</td>\n",
              "      <td>33</td>\n",
              "      <td>10</td>\n",
              "      <td>Elite</td>\n",
              "    </tr>\n",
              "    <tr>\n",
              "      <th>2</th>\n",
              "      <td>AUDI Q4 50 e-tron quattro</td>\n",
              "      <td>2</td>\n",
              "      <td>1</td>\n",
              "      <td>0</td>\n",
              "      <td>FA</td>\n",
              "      <td>T3B0</td>\n",
              "      <td>Federal Tier 3 Bin 0</td>\n",
              "      <td>RVGAJ00.0NZ5</td>\n",
              "      <td>7</td>\n",
              "      <td>10</td>\n",
              "      <td>97</td>\n",
              "      <td>87</td>\n",
              "      <td>93</td>\n",
              "      <td>10</td>\n",
              "      <td>Elite</td>\n",
              "    </tr>\n",
              "    <tr>\n",
              "      <th>3</th>\n",
              "      <td>AUDI Q4 50 e-tron quattro</td>\n",
              "      <td>2</td>\n",
              "      <td>1</td>\n",
              "      <td>0</td>\n",
              "      <td>CA</td>\n",
              "      <td>ZEV</td>\n",
              "      <td>California ZEV</td>\n",
              "      <td>RVGAJ00.0NZ5</td>\n",
              "      <td>7</td>\n",
              "      <td>10</td>\n",
              "      <td>97</td>\n",
              "      <td>87</td>\n",
              "      <td>93</td>\n",
              "      <td>10</td>\n",
              "      <td>Elite</td>\n",
              "    </tr>\n",
              "    <tr>\n",
              "      <th>4</th>\n",
              "      <td>AUDI Q4 Sportback 50 e-tron quattro</td>\n",
              "      <td>2</td>\n",
              "      <td>1</td>\n",
              "      <td>0</td>\n",
              "      <td>FA</td>\n",
              "      <td>T3B0</td>\n",
              "      <td>Federal Tier 3 Bin 0</td>\n",
              "      <td>RVGAJ00.0NZ5</td>\n",
              "      <td>7</td>\n",
              "      <td>10</td>\n",
              "      <td>100</td>\n",
              "      <td>89</td>\n",
              "      <td>95</td>\n",
              "      <td>10</td>\n",
              "      <td>Elite</td>\n",
              "    </tr>\n",
              "  </tbody>\n",
              "</table>\n",
              "</div>\n",
              "    <div class=\"colab-df-buttons\">\n",
              "\n",
              "  <div class=\"colab-df-container\">\n",
              "    <button class=\"colab-df-convert\" onclick=\"convertToInteractive('df-3cd01054-5eaa-48c4-b7b1-426e1707079b')\"\n",
              "            title=\"Convert this dataframe to an interactive table.\"\n",
              "            style=\"display:none;\">\n",
              "\n",
              "  <svg xmlns=\"http://www.w3.org/2000/svg\" height=\"24px\" viewBox=\"0 -960 960 960\">\n",
              "    <path d=\"M120-120v-720h720v720H120Zm60-500h600v-160H180v160Zm220 220h160v-160H400v160Zm0 220h160v-160H400v160ZM180-400h160v-160H180v160Zm440 0h160v-160H620v160ZM180-180h160v-160H180v160Zm440 0h160v-160H620v160Z\"/>\n",
              "  </svg>\n",
              "    </button>\n",
              "\n",
              "  <style>\n",
              "    .colab-df-container {\n",
              "      display:flex;\n",
              "      gap: 12px;\n",
              "    }\n",
              "\n",
              "    .colab-df-convert {\n",
              "      background-color: #E8F0FE;\n",
              "      border: none;\n",
              "      border-radius: 50%;\n",
              "      cursor: pointer;\n",
              "      display: none;\n",
              "      fill: #1967D2;\n",
              "      height: 32px;\n",
              "      padding: 0 0 0 0;\n",
              "      width: 32px;\n",
              "    }\n",
              "\n",
              "    .colab-df-convert:hover {\n",
              "      background-color: #E2EBFA;\n",
              "      box-shadow: 0px 1px 2px rgba(60, 64, 67, 0.3), 0px 1px 3px 1px rgba(60, 64, 67, 0.15);\n",
              "      fill: #174EA6;\n",
              "    }\n",
              "\n",
              "    .colab-df-buttons div {\n",
              "      margin-bottom: 4px;\n",
              "    }\n",
              "\n",
              "    [theme=dark] .colab-df-convert {\n",
              "      background-color: #3B4455;\n",
              "      fill: #D2E3FC;\n",
              "    }\n",
              "\n",
              "    [theme=dark] .colab-df-convert:hover {\n",
              "      background-color: #434B5C;\n",
              "      box-shadow: 0px 1px 3px 1px rgba(0, 0, 0, 0.15);\n",
              "      filter: drop-shadow(0px 1px 2px rgba(0, 0, 0, 0.3));\n",
              "      fill: #FFFFFF;\n",
              "    }\n",
              "  </style>\n",
              "\n",
              "    <script>\n",
              "      const buttonEl =\n",
              "        document.querySelector('#df-3cd01054-5eaa-48c4-b7b1-426e1707079b button.colab-df-convert');\n",
              "      buttonEl.style.display =\n",
              "        google.colab.kernel.accessAllowed ? 'block' : 'none';\n",
              "\n",
              "      async function convertToInteractive(key) {\n",
              "        const element = document.querySelector('#df-3cd01054-5eaa-48c4-b7b1-426e1707079b');\n",
              "        const dataTable =\n",
              "          await google.colab.kernel.invokeFunction('convertToInteractive',\n",
              "                                                    [key], {});\n",
              "        if (!dataTable) return;\n",
              "\n",
              "        const docLinkHtml = 'Like what you see? Visit the ' +\n",
              "          '<a target=\"_blank\" href=https://colab.research.google.com/notebooks/data_table.ipynb>data table notebook</a>'\n",
              "          + ' to learn more about interactive tables.';\n",
              "        element.innerHTML = '';\n",
              "        dataTable['output_type'] = 'display_data';\n",
              "        await google.colab.output.renderOutput(dataTable, element);\n",
              "        const docLink = document.createElement('div');\n",
              "        docLink.innerHTML = docLinkHtml;\n",
              "        element.appendChild(docLink);\n",
              "      }\n",
              "    </script>\n",
              "  </div>\n",
              "\n",
              "\n",
              "<div id=\"df-ca9459d9-6b67-4a45-a33e-fc6bbb604ccb\">\n",
              "  <button class=\"colab-df-quickchart\" onclick=\"quickchart('df-ca9459d9-6b67-4a45-a33e-fc6bbb604ccb')\"\n",
              "            title=\"Suggest charts\"\n",
              "            style=\"display:none;\">\n",
              "\n",
              "<svg xmlns=\"http://www.w3.org/2000/svg\" height=\"24px\"viewBox=\"0 0 24 24\"\n",
              "     width=\"24px\">\n",
              "    <g>\n",
              "        <path d=\"M19 3H5c-1.1 0-2 .9-2 2v14c0 1.1.9 2 2 2h14c1.1 0 2-.9 2-2V5c0-1.1-.9-2-2-2zM9 17H7v-7h2v7zm4 0h-2V7h2v10zm4 0h-2v-4h2v4z\"/>\n",
              "    </g>\n",
              "</svg>\n",
              "  </button>\n",
              "\n",
              "<style>\n",
              "  .colab-df-quickchart {\n",
              "      --bg-color: #E8F0FE;\n",
              "      --fill-color: #1967D2;\n",
              "      --hover-bg-color: #E2EBFA;\n",
              "      --hover-fill-color: #174EA6;\n",
              "      --disabled-fill-color: #AAA;\n",
              "      --disabled-bg-color: #DDD;\n",
              "  }\n",
              "\n",
              "  [theme=dark] .colab-df-quickchart {\n",
              "      --bg-color: #3B4455;\n",
              "      --fill-color: #D2E3FC;\n",
              "      --hover-bg-color: #434B5C;\n",
              "      --hover-fill-color: #FFFFFF;\n",
              "      --disabled-bg-color: #3B4455;\n",
              "      --disabled-fill-color: #666;\n",
              "  }\n",
              "\n",
              "  .colab-df-quickchart {\n",
              "    background-color: var(--bg-color);\n",
              "    border: none;\n",
              "    border-radius: 50%;\n",
              "    cursor: pointer;\n",
              "    display: none;\n",
              "    fill: var(--fill-color);\n",
              "    height: 32px;\n",
              "    padding: 0;\n",
              "    width: 32px;\n",
              "  }\n",
              "\n",
              "  .colab-df-quickchart:hover {\n",
              "    background-color: var(--hover-bg-color);\n",
              "    box-shadow: 0 1px 2px rgba(60, 64, 67, 0.3), 0 1px 3px 1px rgba(60, 64, 67, 0.15);\n",
              "    fill: var(--button-hover-fill-color);\n",
              "  }\n",
              "\n",
              "  .colab-df-quickchart-complete:disabled,\n",
              "  .colab-df-quickchart-complete:disabled:hover {\n",
              "    background-color: var(--disabled-bg-color);\n",
              "    fill: var(--disabled-fill-color);\n",
              "    box-shadow: none;\n",
              "  }\n",
              "\n",
              "  .colab-df-spinner {\n",
              "    border: 2px solid var(--fill-color);\n",
              "    border-color: transparent;\n",
              "    border-bottom-color: var(--fill-color);\n",
              "    animation:\n",
              "      spin 1s steps(1) infinite;\n",
              "  }\n",
              "\n",
              "  @keyframes spin {\n",
              "    0% {\n",
              "      border-color: transparent;\n",
              "      border-bottom-color: var(--fill-color);\n",
              "      border-left-color: var(--fill-color);\n",
              "    }\n",
              "    20% {\n",
              "      border-color: transparent;\n",
              "      border-left-color: var(--fill-color);\n",
              "      border-top-color: var(--fill-color);\n",
              "    }\n",
              "    30% {\n",
              "      border-color: transparent;\n",
              "      border-left-color: var(--fill-color);\n",
              "      border-top-color: var(--fill-color);\n",
              "      border-right-color: var(--fill-color);\n",
              "    }\n",
              "    40% {\n",
              "      border-color: transparent;\n",
              "      border-right-color: var(--fill-color);\n",
              "      border-top-color: var(--fill-color);\n",
              "    }\n",
              "    60% {\n",
              "      border-color: transparent;\n",
              "      border-right-color: var(--fill-color);\n",
              "    }\n",
              "    80% {\n",
              "      border-color: transparent;\n",
              "      border-right-color: var(--fill-color);\n",
              "      border-bottom-color: var(--fill-color);\n",
              "    }\n",
              "    90% {\n",
              "      border-color: transparent;\n",
              "      border-bottom-color: var(--fill-color);\n",
              "    }\n",
              "  }\n",
              "</style>\n",
              "\n",
              "  <script>\n",
              "    async function quickchart(key) {\n",
              "      const quickchartButtonEl =\n",
              "        document.querySelector('#' + key + ' button');\n",
              "      quickchartButtonEl.disabled = true;  // To prevent multiple clicks.\n",
              "      quickchartButtonEl.classList.add('colab-df-spinner');\n",
              "      try {\n",
              "        const charts = await google.colab.kernel.invokeFunction(\n",
              "            'suggestCharts', [key], {});\n",
              "      } catch (error) {\n",
              "        console.error('Error during call to suggestCharts:', error);\n",
              "      }\n",
              "      quickchartButtonEl.classList.remove('colab-df-spinner');\n",
              "      quickchartButtonEl.classList.add('colab-df-quickchart-complete');\n",
              "    }\n",
              "    (() => {\n",
              "      let quickchartButtonEl =\n",
              "        document.querySelector('#df-ca9459d9-6b67-4a45-a33e-fc6bbb604ccb button');\n",
              "      quickchartButtonEl.style.display =\n",
              "        google.colab.kernel.accessAllowed ? 'block' : 'none';\n",
              "    })();\n",
              "  </script>\n",
              "</div>\n",
              "\n",
              "    </div>\n",
              "  </div>\n"
            ],
            "text/plain": [
              "                                 Model  Trans  Drive  Fuel Cert Region  Stnd  \\\n",
              "0                    AUDI Q4 40 e-tron      2      0     0          FA  T3B0   \n",
              "1                    AUDI Q4 40 e-tron      2      0     0          CA   ZEV   \n",
              "2            AUDI Q4 50 e-tron quattro      2      1     0          FA  T3B0   \n",
              "3            AUDI Q4 50 e-tron quattro      2      1     0          CA   ZEV   \n",
              "4  AUDI Q4 Sportback 50 e-tron quattro      2      1     0          FA  T3B0   \n",
              "\n",
              "       Stnd Description  Underhood ID  Veh Class  Air Pollution Score  \\\n",
              "0  Federal Tier 3 Bin 0  RVGAV00.0NZ4          7                   10   \n",
              "1        California ZEV  RVGAV00.0NZ4          7                   10   \n",
              "2  Federal Tier 3 Bin 0  RVGAJ00.0NZ5          7                   10   \n",
              "3        California ZEV  RVGAJ00.0NZ5          7                   10   \n",
              "4  Federal Tier 3 Bin 0  RVGAJ00.0NZ5          7                   10   \n",
              "\n",
              "   City MPG  Hwy MPG  Cmb MPG  Greenhouse Gas Score SmartWay  \n",
              "0        30       36       33                    10    Elite  \n",
              "1        30       36       33                    10    Elite  \n",
              "2        97       87       93                    10    Elite  \n",
              "3        97       87       93                    10    Elite  \n",
              "4       100       89       95                    10    Elite  "
            ]
          },
          "execution_count": 110,
          "metadata": {},
          "output_type": "execute_result"
        }
      ],
      "source": [
        "df.head()"
      ]
    },
    {
      "cell_type": "code",
      "execution_count": 55,
      "metadata": {
        "colab": {
          "base_uri": "https://localhost:8080/",
          "height": 743
        },
        "id": "33FNu3QsBQk0",
        "outputId": "6b3293b7-6f66-4c18-92fe-949b5316a1d8"
      },
      "outputs": [
        {
          "data": {
            "text/plain": [
              "<matplotlib.axes._subplots.AxesSubplot at 0x21396d42bc8>"
            ]
          },
          "execution_count": 55,
          "metadata": {},
          "output_type": "execute_result"
        },
        {
          "data": {
            "image/png": "[encoded data removed]",
            "text/plain": [
              "<Figure size 720x432 with 2 Axes>"
            ]
          },
          "metadata": {
            "needs_background": "light"
          },
          "output_type": "display_data"
        }
      ],
      "source": [
        "plt.figure(figsize=(10,6))\n",
        "sns.heatmap(data=df.corr(), annot= True)"
      ]
    },
    {
      "cell_type": "code",
      "execution_count": 61,
      "metadata": {
        "id": "04w_caQiV9an"
      },
      "outputs": [],
      "source": [
        "X = df[['Trans', 'Drive', 'Fuel','Veh Class', 'Air Pollution Score','City MPG', 'Hwy MPG', 'Cmb MPG', 'Greenhouse Gas Score']]"
      ]
    },
    {
      "cell_type": "code",
      "execution_count": 59,
      "metadata": {
        "colab": {
          "base_uri": "https://localhost:8080/",
          "height": 931
        },
        "id": "0yKpJxq7WKWp",
        "outputId": "28b38058-6674-45d3-c079-608eb1ac3716"
      },
      "outputs": [
        {
          "name": "stderr",
          "output_type": "stream",
          "text": [
            "c:\\ProgramData\\Anaconda3\\lib\\site-packages\\sklearn\\cluster\\_kmeans.py:1037: UserWarning: KMeans is known to have a memory leak on Windows with MKL, when there are less chunks than available threads. You can avoid it by setting the environment variable OMP_NUM_THREADS=1.\n",
            "  \"KMeans is known to have a memory leak on Windows \"\n"
          ]
        },
        {
          "data": {
            "image/png": "[encoded data removed]",
            "text/plain": [
              "<Figure size 576x432 with 1 Axes>"
            ]
          },
          "metadata": {
            "needs_background": "light"
          },
          "output_type": "display_data"
        }
      ],
      "source": [
        "wcss = []\n",
        "\n",
        "for i in range(1, 11):\n",
        "  kmean = KMeans(n_clusters=i, init='k-means++', random_state=90)\n",
        "  kmean.fit(X_pca)\n",
        "  wcss.append(kmean.inertia_)\n",
        "\n",
        "plt.figure(figsize=(8,6))\n",
        "plt.title('Plot of the Elbow Method', size=15, family='serif')\n",
        "plt.plot(range(1, 11), wcss)\n",
        "plt.xticks(range(1, 11), family='serif')\n",
        "plt.yticks(family='serif')\n",
        "plt.xlabel('Number of Custers (K)', family='serif')\n",
        "plt.ylabel('WCSS', family='serif')\n",
        "plt.grid()\n",
        "plt.tick_params(axis='both', direction='inout', length=6, color='purple', grid_color='lightgray', grid_linestyle='--')\n",
        "plt.show()"
      ]
    },
    {
      "cell_type": "code",
      "execution_count": 57,
      "metadata": {
        "colab": {
          "base_uri": "https://localhost:8080/",
          "height": 129
        },
        "id": "Q-SxWAdvWPpW",
        "outputId": "72c02183-d6e8-408f-a320-32d955494cc9"
      },
      "outputs": [
        {
          "data": {
            "text/plain": [
              "KMeans(n_clusters=4, random_state=90)"
            ]
          },
          "execution_count": 57,
          "metadata": {},
          "output_type": "execute_result"
        }
      ],
      "source": [
        "kmean = KMeans(n_clusters=4, init='k-means++', random_state=90)\n",
        "kmean.fit(X_pca)"
      ]
    },
    {
      "cell_type": "code",
      "execution_count": null,
      "metadata": {
        "id": "gPnzg4x6WY1b"
      },
      "outputs": [],
      "source": []
    }
  ],
  "metadata": {
    "colab": {
      "provenance": []
    },
    "kernelspec": {
      "display_name": "Python 3",
      "name": "python3"
    },
    "language_info": {
      "codemirror_mode": {
        "name": "ipython",
        "version": 3
      },
      "file_extension": ".py",
      "mimetype": "text/x-python",
      "name": "python",
      "nbconvert_exporter": "python",
      "pygments_lexer": "ipython3",
      "version": "3.7.6"
    }
  },
  "nbformat": 4,
  "nbformat_minor": 0
}
